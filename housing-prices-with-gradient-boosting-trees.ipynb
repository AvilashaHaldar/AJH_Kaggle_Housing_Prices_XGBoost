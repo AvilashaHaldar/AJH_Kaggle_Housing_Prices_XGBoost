{
 "cells": [
  {
   "cell_type": "markdown",
   "id": "f16191b1",
   "metadata": {
    "papermill": {
     "duration": 0.024035,
     "end_time": "2024-07-09T11:39:05.136449",
     "exception": false,
     "start_time": "2024-07-09T11:39:05.112414",
     "status": "completed"
    },
    "tags": []
   },
   "source": [
    "# **Housing Prices**\n",
    "\n",
    "Hi! In this notebook, I'll walk you through my data cleaning and exploration process and my thoughts on how to choose and validate a model. I'll talk a bit about backward elimination and forward selection, types of encoding for categorical data, main types of machine learning, and K-fold cross-validation, although not all of these will be implemented.\n",
    "\n",
    "To get started, please select \"Run All\" above. If the application hangs, you may need to refresh the page and hit \"Run All\" again.\n",
    "\n",
    "Let's get going by loading in our libraries and data:"
   ]
  },
  {
   "cell_type": "code",
   "execution_count": 1,
   "id": "5db6d0a6",
   "metadata": {
    "_cell_guid": "b1076dfc-b9ad-4769-8c92-a6c4dae69d19",
    "_uuid": "8f2839f25d086af736a60e9eeb907d3b93b6e0e5",
    "execution": {
     "iopub.execute_input": "2024-07-09T11:39:05.184830Z",
     "iopub.status.busy": "2024-07-09T11:39:05.184363Z",
     "iopub.status.idle": "2024-07-09T11:39:08.176985Z",
     "shell.execute_reply": "2024-07-09T11:39:08.175682Z"
    },
    "papermill": {
     "duration": 3.01992,
     "end_time": "2024-07-09T11:39:08.180203",
     "exception": false,
     "start_time": "2024-07-09T11:39:05.160283",
     "status": "completed"
    },
    "tags": []
   },
   "outputs": [
    {
     "name": "stdout",
     "output_type": "stream",
     "text": [
      "/kaggle/input/house-prices-advanced-regression-techniques/sample_submission.csv\n",
      "/kaggle/input/house-prices-advanced-regression-techniques/data_description.txt\n",
      "/kaggle/input/house-prices-advanced-regression-techniques/train.csv\n",
      "/kaggle/input/house-prices-advanced-regression-techniques/test.csv\n"
     ]
    }
   ],
   "source": [
    "import numpy as np # linear algebra\n",
    "import pandas as pd # data processing, CSV file I/O (e.g. pd.read_csv)\n",
    "from sklearn import base\n",
    "from sklearn.model_selection import StratifiedKFold, KFold\n",
    "from sklearn.feature_selection import mutual_info_regression\n",
    "\n",
    "# Input data files are available in the read-only \"../input/\" directory\n",
    "# For example, running this (by clicking run or pressing Shift+Enter) will list all files under the input directory\n",
    "\n",
    "import os\n",
    "import matplotlib.pyplot as plt\n",
    "for dirname, _, filenames in os.walk('/kaggle/input'):\n",
    "    for filename in filenames:\n",
    "        print(os.path.join(dirname, filename))\n",
    "        \n",
    "pd.set_option('display.max_colwidth', None)\n",
    "pd.set_option('display.max_rows', None)\n",
    "pd.set_option('future.no_silent_downcasting', True)\n",
    "\n",
    "# You can write up to 20GB to the current directory (/kaggle/working/) that gets preserved as output when you create a version using \"Save & Run All\" \n",
    "# You can also write temporary files to /kaggle/temp/, but they won't be saved outside of the current session"
   ]
  },
  {
   "cell_type": "code",
   "execution_count": 2,
   "id": "a461243d",
   "metadata": {
    "execution": {
     "iopub.execute_input": "2024-07-09T11:39:08.230814Z",
     "iopub.status.busy": "2024-07-09T11:39:08.230270Z",
     "iopub.status.idle": "2024-07-09T11:39:08.338421Z",
     "shell.execute_reply": "2024-07-09T11:39:08.337158Z"
    },
    "papermill": {
     "duration": 0.136625,
     "end_time": "2024-07-09T11:39:08.341303",
     "exception": false,
     "start_time": "2024-07-09T11:39:08.204678",
     "status": "completed"
    },
    "tags": []
   },
   "outputs": [],
   "source": [
    "def make_boxplots_of_categorical_data(train_df: pd.DataFrame, col_name: str, label_name: str = \"SalePrice\", ylabel: str = \"Sale Price ($millions)\"):\n",
    "    \"\"\"\n",
    "    This function creates boxplots for each possible category of a categorical feature/column in the training data using the label values.\n",
    "    param train_df: The training data\n",
    "    param col_name: The column to make boxplots of. Note that we have 1 boxplot per possible column value.\n",
    "    param label_name: The numerical column to use for the boxplot values. This should be the column we're trying to predict.\n",
    "    param ylabel: What to call the y axis.\n",
    "    \"\"\"\n",
    "    # Let's make the figure\n",
    "    plt.rcParams[\"figure.figsize\"] = [7.50, 3.50]\n",
    "    plt.rcParams[\"figure.autolayout\"] = True\n",
    "    \n",
    "    # Let's just keep the columns we need\n",
    "    train_df = train_df[[col_name, label_name]]\n",
    "\n",
    "    # For each unique category, we make a boxplot\n",
    "    data = dict()\n",
    "    for unique_value in train_df[col_name].value_counts().index:\n",
    "        vals = (train_df[train_df[col_name] == unique_value][label_name].sort_values()/1e6).values\n",
    "        data[unique_value] = vals\n",
    "        \n",
    "    # We also want a boxplot for NaN values, if they exist\n",
    "    if train_df[col_name].isna().sum() > 0:\n",
    "        vals = (train_df[train_df[col_name].isna()][label_name].sort_values()/1e6).values\n",
    "        data[\"NaN\"] = vals\n",
    "    fig, ax = plt.subplots()\n",
    "\n",
    "    # Plotting and making it pretty\n",
    "    ax.boxplot(data.values())\n",
    "    ax.set_xticklabels(data.keys())\n",
    "    plt.xticks(rotation=90)\n",
    "\n",
    "    plt.ylabel(ylabel)\n",
    "    plt.title(col_name)\n",
    "\n",
    "    plt.show()\n",
    "    plt.close()\n",
    "    \n",
    "def one_hot_encoding(train_df: pd.DataFrame, col_name: str, dtype = None) -> (pd.DataFrame, pd.DataFrame):\n",
    "    \"\"\"\n",
    "    This function takes a column in the training data and one-hot encodes it. The original column is then deleted.\n",
    "    param train_df: The training data\n",
    "    param col_name: The column to encode\n",
    "    param dtype: Optionally setting the dtype\n",
    "    return train_df: The training data after one-hot-encoding\n",
    "    return encoding.columns: The list of all the new one-hot-encoded column names\n",
    "    \"\"\"\n",
    "    encoding = pd.get_dummies(train_df[col_name])\n",
    "    if not pd.isna(dtype):\n",
    "        encoding = encoding.astype(dtype)\n",
    "    encoding.columns = [f\"{col_name}_{i}\" for i in encoding.columns]\n",
    "    train_df = pd.concat([train_df, encoding], axis=1).drop(columns=[col_name])\n",
    "    return train_df, encoding.columns.tolist()\n",
    "\n",
    "def k_fold_target_encoding(train_df: pd.DataFrame, original_col_name: str, num_splits: int=5, label_name: str=\"SalePrice\") -> (pd.DataFrame, dict):\n",
    "    \"\"\"\n",
    "    This function k-fold target encodes the original_col_name using num_splits as the number of folds.\n",
    "    We also create the target encodings needed for converting original_col_name in the test data.\n",
    "    param train_df: The training data\n",
    "    param original_col_name: The column to encode\n",
    "    param num_splits: The number of folds\n",
    "    param label_name: The value we're trying to predict\n",
    "    return train_df: The training dataframe after k-fold target encoding\n",
    "    return test_encodings: The encodings of the original column, to be used for the test dataset\n",
    "    \"\"\"\n",
    "    \n",
    "    # Let's get the folds and set up our data\n",
    "    col_name = f\"{original_col_name}_Encoded\"\n",
    "    train_df[col_name] = train_df[original_col_name].copy(deep=True)\n",
    "    \n",
    "    data = train_df[[col_name, label_name]]\n",
    "    mean_encodings = data.groupby(col_name).mean().to_dict()[label_name]\n",
    "    \n",
    "    skf = StratifiedKFold(n_splits=num_splits)\n",
    "    for fold_num, (train_index, test_index) in enumerate(skf.split(train_df[[col_name]], train_df[[label_name]])):\n",
    "        \n",
    "        # We get our encoding values by taking the mean of each category's label_name values in the train_index folds (which contains most of the data)\n",
    "        encoding_vals = data.loc[train_index].groupby(col_name).mean().to_dict()[label_name]\n",
    "        # In the test_index (which is the fold that was left out), we replace with the encoded values\n",
    "        train_df.loc[test_index, col_name] = train_df.loc[test_index, col_name].replace(encoding_vals)\n",
    "    \n",
    "    # Dealing with things that couldn't be encoded due to too few values\n",
    "    bad_vals = pd.to_numeric(train_df[col_name], errors=\"coerce\")\n",
    "    bad_vals = bad_vals[bad_vals.isna()].index\n",
    "    if len(bad_vals):\n",
    "        train_df.loc[bad_vals, col_name] = train_df.loc[bad_vals, col_name].replace(mean_encodings)\n",
    "        \n",
    "    train_df[col_name] = train_df[col_name].astype(float)    \n",
    "    \n",
    "    # Here, we create the encodings for the test dataset, which are just the mean of each possible category.\n",
    "    test_encodings = train_df[[original_col_name, col_name]]\n",
    "    test_encodings = test_encodings.groupby(original_col_name).mean().to_dict()[col_name]    \n",
    "\n",
    "    return train_df.drop(columns=[original_col_name]), test_encodings"
   ]
  },
  {
   "cell_type": "markdown",
   "id": "9a6b9dbb",
   "metadata": {
    "papermill": {
     "duration": 0.022279,
     "end_time": "2024-07-09T11:39:08.386561",
     "exception": false,
     "start_time": "2024-07-09T11:39:08.364282",
     "status": "completed"
    },
    "tags": []
   },
   "source": [
    "# **Exploratory data analysis**"
   ]
  },
  {
   "cell_type": "code",
   "execution_count": 3,
   "id": "10a3dbcc",
   "metadata": {
    "execution": {
     "iopub.execute_input": "2024-07-09T11:39:08.436734Z",
     "iopub.status.busy": "2024-07-09T11:39:08.436329Z",
     "iopub.status.idle": "2024-07-09T11:39:08.529121Z",
     "shell.execute_reply": "2024-07-09T11:39:08.527104Z"
    },
    "papermill": {
     "duration": 0.121549,
     "end_time": "2024-07-09T11:39:08.532842",
     "exception": false,
     "start_time": "2024-07-09T11:39:08.411293",
     "status": "completed"
    },
    "tags": []
   },
   "outputs": [
    {
     "data": {
      "text/html": [
       "<div>\n",
       "<style scoped>\n",
       "    .dataframe tbody tr th:only-of-type {\n",
       "        vertical-align: middle;\n",
       "    }\n",
       "\n",
       "    .dataframe tbody tr th {\n",
       "        vertical-align: top;\n",
       "    }\n",
       "\n",
       "    .dataframe thead th {\n",
       "        text-align: right;\n",
       "    }\n",
       "</style>\n",
       "<table border=\"1\" class=\"dataframe\">\n",
       "  <thead>\n",
       "    <tr style=\"text-align: right;\">\n",
       "      <th></th>\n",
       "      <th>Id</th>\n",
       "      <th>MSSubClass</th>\n",
       "      <th>MSZoning</th>\n",
       "      <th>LotFrontage</th>\n",
       "      <th>LotArea</th>\n",
       "      <th>Street</th>\n",
       "      <th>Alley</th>\n",
       "      <th>LotShape</th>\n",
       "      <th>LandContour</th>\n",
       "      <th>Utilities</th>\n",
       "      <th>...</th>\n",
       "      <th>PoolArea</th>\n",
       "      <th>PoolQC</th>\n",
       "      <th>Fence</th>\n",
       "      <th>MiscFeature</th>\n",
       "      <th>MiscVal</th>\n",
       "      <th>MoSold</th>\n",
       "      <th>YrSold</th>\n",
       "      <th>SaleType</th>\n",
       "      <th>SaleCondition</th>\n",
       "      <th>SalePrice</th>\n",
       "    </tr>\n",
       "  </thead>\n",
       "  <tbody>\n",
       "    <tr>\n",
       "      <th>0</th>\n",
       "      <td>1</td>\n",
       "      <td>60</td>\n",
       "      <td>RL</td>\n",
       "      <td>65.0</td>\n",
       "      <td>8450</td>\n",
       "      <td>Pave</td>\n",
       "      <td>NaN</td>\n",
       "      <td>Reg</td>\n",
       "      <td>Lvl</td>\n",
       "      <td>AllPub</td>\n",
       "      <td>...</td>\n",
       "      <td>0</td>\n",
       "      <td>NaN</td>\n",
       "      <td>NaN</td>\n",
       "      <td>NaN</td>\n",
       "      <td>0</td>\n",
       "      <td>2</td>\n",
       "      <td>2008</td>\n",
       "      <td>WD</td>\n",
       "      <td>Normal</td>\n",
       "      <td>208500</td>\n",
       "    </tr>\n",
       "    <tr>\n",
       "      <th>1</th>\n",
       "      <td>2</td>\n",
       "      <td>20</td>\n",
       "      <td>RL</td>\n",
       "      <td>80.0</td>\n",
       "      <td>9600</td>\n",
       "      <td>Pave</td>\n",
       "      <td>NaN</td>\n",
       "      <td>Reg</td>\n",
       "      <td>Lvl</td>\n",
       "      <td>AllPub</td>\n",
       "      <td>...</td>\n",
       "      <td>0</td>\n",
       "      <td>NaN</td>\n",
       "      <td>NaN</td>\n",
       "      <td>NaN</td>\n",
       "      <td>0</td>\n",
       "      <td>5</td>\n",
       "      <td>2007</td>\n",
       "      <td>WD</td>\n",
       "      <td>Normal</td>\n",
       "      <td>181500</td>\n",
       "    </tr>\n",
       "    <tr>\n",
       "      <th>2</th>\n",
       "      <td>3</td>\n",
       "      <td>60</td>\n",
       "      <td>RL</td>\n",
       "      <td>68.0</td>\n",
       "      <td>11250</td>\n",
       "      <td>Pave</td>\n",
       "      <td>NaN</td>\n",
       "      <td>IR1</td>\n",
       "      <td>Lvl</td>\n",
       "      <td>AllPub</td>\n",
       "      <td>...</td>\n",
       "      <td>0</td>\n",
       "      <td>NaN</td>\n",
       "      <td>NaN</td>\n",
       "      <td>NaN</td>\n",
       "      <td>0</td>\n",
       "      <td>9</td>\n",
       "      <td>2008</td>\n",
       "      <td>WD</td>\n",
       "      <td>Normal</td>\n",
       "      <td>223500</td>\n",
       "    </tr>\n",
       "    <tr>\n",
       "      <th>3</th>\n",
       "      <td>4</td>\n",
       "      <td>70</td>\n",
       "      <td>RL</td>\n",
       "      <td>60.0</td>\n",
       "      <td>9550</td>\n",
       "      <td>Pave</td>\n",
       "      <td>NaN</td>\n",
       "      <td>IR1</td>\n",
       "      <td>Lvl</td>\n",
       "      <td>AllPub</td>\n",
       "      <td>...</td>\n",
       "      <td>0</td>\n",
       "      <td>NaN</td>\n",
       "      <td>NaN</td>\n",
       "      <td>NaN</td>\n",
       "      <td>0</td>\n",
       "      <td>2</td>\n",
       "      <td>2006</td>\n",
       "      <td>WD</td>\n",
       "      <td>Abnorml</td>\n",
       "      <td>140000</td>\n",
       "    </tr>\n",
       "    <tr>\n",
       "      <th>4</th>\n",
       "      <td>5</td>\n",
       "      <td>60</td>\n",
       "      <td>RL</td>\n",
       "      <td>84.0</td>\n",
       "      <td>14260</td>\n",
       "      <td>Pave</td>\n",
       "      <td>NaN</td>\n",
       "      <td>IR1</td>\n",
       "      <td>Lvl</td>\n",
       "      <td>AllPub</td>\n",
       "      <td>...</td>\n",
       "      <td>0</td>\n",
       "      <td>NaN</td>\n",
       "      <td>NaN</td>\n",
       "      <td>NaN</td>\n",
       "      <td>0</td>\n",
       "      <td>12</td>\n",
       "      <td>2008</td>\n",
       "      <td>WD</td>\n",
       "      <td>Normal</td>\n",
       "      <td>250000</td>\n",
       "    </tr>\n",
       "  </tbody>\n",
       "</table>\n",
       "<p>5 rows × 81 columns</p>\n",
       "</div>"
      ],
      "text/plain": [
       "   Id  MSSubClass MSZoning  LotFrontage  LotArea Street Alley LotShape  \\\n",
       "0   1          60       RL         65.0     8450   Pave   NaN      Reg   \n",
       "1   2          20       RL         80.0     9600   Pave   NaN      Reg   \n",
       "2   3          60       RL         68.0    11250   Pave   NaN      IR1   \n",
       "3   4          70       RL         60.0     9550   Pave   NaN      IR1   \n",
       "4   5          60       RL         84.0    14260   Pave   NaN      IR1   \n",
       "\n",
       "  LandContour Utilities  ... PoolArea PoolQC Fence MiscFeature MiscVal MoSold  \\\n",
       "0         Lvl    AllPub  ...        0    NaN   NaN         NaN       0      2   \n",
       "1         Lvl    AllPub  ...        0    NaN   NaN         NaN       0      5   \n",
       "2         Lvl    AllPub  ...        0    NaN   NaN         NaN       0      9   \n",
       "3         Lvl    AllPub  ...        0    NaN   NaN         NaN       0      2   \n",
       "4         Lvl    AllPub  ...        0    NaN   NaN         NaN       0     12   \n",
       "\n",
       "  YrSold  SaleType  SaleCondition  SalePrice  \n",
       "0   2008        WD         Normal     208500  \n",
       "1   2007        WD         Normal     181500  \n",
       "2   2008        WD         Normal     223500  \n",
       "3   2006        WD        Abnorml     140000  \n",
       "4   2008        WD         Normal     250000  \n",
       "\n",
       "[5 rows x 81 columns]"
      ]
     },
     "execution_count": 3,
     "metadata": {},
     "output_type": "execute_result"
    }
   ],
   "source": [
    "train_df = pd.read_csv(\"/kaggle/input/house-prices-advanced-regression-techniques/train.csv\")\n",
    "train_df.head()"
   ]
  },
  {
   "cell_type": "code",
   "execution_count": 4,
   "id": "2f47afa8",
   "metadata": {
    "execution": {
     "iopub.execute_input": "2024-07-09T11:39:08.582167Z",
     "iopub.status.busy": "2024-07-09T11:39:08.581737Z",
     "iopub.status.idle": "2024-07-09T11:39:08.595003Z",
     "shell.execute_reply": "2024-07-09T11:39:08.593785Z"
    },
    "papermill": {
     "duration": 0.041273,
     "end_time": "2024-07-09T11:39:08.597594",
     "exception": false,
     "start_time": "2024-07-09T11:39:08.556321",
     "status": "completed"
    },
    "tags": []
   },
   "outputs": [
    {
     "data": {
      "text/plain": [
       "Id                 int64\n",
       "MSSubClass         int64\n",
       "MSZoning          object\n",
       "LotFrontage      float64\n",
       "LotArea            int64\n",
       "Street            object\n",
       "Alley             object\n",
       "LotShape          object\n",
       "LandContour       object\n",
       "Utilities         object\n",
       "LotConfig         object\n",
       "LandSlope         object\n",
       "Neighborhood      object\n",
       "Condition1        object\n",
       "Condition2        object\n",
       "BldgType          object\n",
       "HouseStyle        object\n",
       "OverallQual        int64\n",
       "OverallCond        int64\n",
       "YearBuilt          int64\n",
       "YearRemodAdd       int64\n",
       "RoofStyle         object\n",
       "RoofMatl          object\n",
       "Exterior1st       object\n",
       "Exterior2nd       object\n",
       "MasVnrType        object\n",
       "MasVnrArea       float64\n",
       "ExterQual         object\n",
       "ExterCond         object\n",
       "Foundation        object\n",
       "BsmtQual          object\n",
       "BsmtCond          object\n",
       "BsmtExposure      object\n",
       "BsmtFinType1      object\n",
       "BsmtFinSF1         int64\n",
       "BsmtFinType2      object\n",
       "BsmtFinSF2         int64\n",
       "BsmtUnfSF          int64\n",
       "TotalBsmtSF        int64\n",
       "Heating           object\n",
       "HeatingQC         object\n",
       "CentralAir        object\n",
       "Electrical        object\n",
       "1stFlrSF           int64\n",
       "2ndFlrSF           int64\n",
       "LowQualFinSF       int64\n",
       "GrLivArea          int64\n",
       "BsmtFullBath       int64\n",
       "BsmtHalfBath       int64\n",
       "FullBath           int64\n",
       "HalfBath           int64\n",
       "BedroomAbvGr       int64\n",
       "KitchenAbvGr       int64\n",
       "KitchenQual       object\n",
       "TotRmsAbvGrd       int64\n",
       "Functional        object\n",
       "Fireplaces         int64\n",
       "FireplaceQu       object\n",
       "GarageType        object\n",
       "GarageYrBlt      float64\n",
       "GarageFinish      object\n",
       "GarageCars         int64\n",
       "GarageArea         int64\n",
       "GarageQual        object\n",
       "GarageCond        object\n",
       "PavedDrive        object\n",
       "WoodDeckSF         int64\n",
       "OpenPorchSF        int64\n",
       "EnclosedPorch      int64\n",
       "3SsnPorch          int64\n",
       "ScreenPorch        int64\n",
       "PoolArea           int64\n",
       "PoolQC            object\n",
       "Fence             object\n",
       "MiscFeature       object\n",
       "MiscVal            int64\n",
       "MoSold             int64\n",
       "YrSold             int64\n",
       "SaleType          object\n",
       "SaleCondition     object\n",
       "SalePrice          int64\n",
       "dtype: object"
      ]
     },
     "execution_count": 4,
     "metadata": {},
     "output_type": "execute_result"
    }
   ],
   "source": [
    "train_df.dtypes"
   ]
  },
  {
   "cell_type": "code",
   "execution_count": 5,
   "id": "3c81baf3",
   "metadata": {
    "execution": {
     "iopub.execute_input": "2024-07-09T11:39:08.647611Z",
     "iopub.status.busy": "2024-07-09T11:39:08.646058Z",
     "iopub.status.idle": "2024-07-09T11:39:08.655084Z",
     "shell.execute_reply": "2024-07-09T11:39:08.653771Z"
    },
    "papermill": {
     "duration": 0.036997,
     "end_time": "2024-07-09T11:39:08.658106",
     "exception": false,
     "start_time": "2024-07-09T11:39:08.621109",
     "status": "completed"
    },
    "tags": []
   },
   "outputs": [
    {
     "data": {
      "text/plain": [
       "(1460, 81)"
      ]
     },
     "execution_count": 5,
     "metadata": {},
     "output_type": "execute_result"
    }
   ],
   "source": [
    "train_df.shape"
   ]
  },
  {
   "cell_type": "code",
   "execution_count": 6,
   "id": "f620139d",
   "metadata": {
    "execution": {
     "iopub.execute_input": "2024-07-09T11:39:08.708637Z",
     "iopub.status.busy": "2024-07-09T11:39:08.707688Z",
     "iopub.status.idle": "2024-07-09T11:39:08.819649Z",
     "shell.execute_reply": "2024-07-09T11:39:08.818194Z"
    },
    "papermill": {
     "duration": 0.139875,
     "end_time": "2024-07-09T11:39:08.822490",
     "exception": false,
     "start_time": "2024-07-09T11:39:08.682615",
     "status": "completed"
    },
    "tags": []
   },
   "outputs": [
    {
     "data": {
      "text/html": [
       "<div>\n",
       "<style scoped>\n",
       "    .dataframe tbody tr th:only-of-type {\n",
       "        vertical-align: middle;\n",
       "    }\n",
       "\n",
       "    .dataframe tbody tr th {\n",
       "        vertical-align: top;\n",
       "    }\n",
       "\n",
       "    .dataframe thead th {\n",
       "        text-align: right;\n",
       "    }\n",
       "</style>\n",
       "<table border=\"1\" class=\"dataframe\">\n",
       "  <thead>\n",
       "    <tr style=\"text-align: right;\">\n",
       "      <th></th>\n",
       "      <th>Id</th>\n",
       "      <th>MSSubClass</th>\n",
       "      <th>LotFrontage</th>\n",
       "      <th>LotArea</th>\n",
       "      <th>OverallQual</th>\n",
       "      <th>OverallCond</th>\n",
       "      <th>YearBuilt</th>\n",
       "      <th>YearRemodAdd</th>\n",
       "      <th>MasVnrArea</th>\n",
       "      <th>BsmtFinSF1</th>\n",
       "      <th>...</th>\n",
       "      <th>WoodDeckSF</th>\n",
       "      <th>OpenPorchSF</th>\n",
       "      <th>EnclosedPorch</th>\n",
       "      <th>3SsnPorch</th>\n",
       "      <th>ScreenPorch</th>\n",
       "      <th>PoolArea</th>\n",
       "      <th>MiscVal</th>\n",
       "      <th>MoSold</th>\n",
       "      <th>YrSold</th>\n",
       "      <th>SalePrice</th>\n",
       "    </tr>\n",
       "  </thead>\n",
       "  <tbody>\n",
       "    <tr>\n",
       "      <th>count</th>\n",
       "      <td>1460.000000</td>\n",
       "      <td>1460.000000</td>\n",
       "      <td>1201.000000</td>\n",
       "      <td>1460.000000</td>\n",
       "      <td>1460.000000</td>\n",
       "      <td>1460.000000</td>\n",
       "      <td>1460.000000</td>\n",
       "      <td>1460.000000</td>\n",
       "      <td>1452.000000</td>\n",
       "      <td>1460.000000</td>\n",
       "      <td>...</td>\n",
       "      <td>1460.000000</td>\n",
       "      <td>1460.000000</td>\n",
       "      <td>1460.000000</td>\n",
       "      <td>1460.000000</td>\n",
       "      <td>1460.000000</td>\n",
       "      <td>1460.000000</td>\n",
       "      <td>1460.000000</td>\n",
       "      <td>1460.000000</td>\n",
       "      <td>1460.000000</td>\n",
       "      <td>1460.000000</td>\n",
       "    </tr>\n",
       "    <tr>\n",
       "      <th>mean</th>\n",
       "      <td>730.500000</td>\n",
       "      <td>56.897260</td>\n",
       "      <td>70.049958</td>\n",
       "      <td>10516.828082</td>\n",
       "      <td>6.099315</td>\n",
       "      <td>5.575342</td>\n",
       "      <td>1971.267808</td>\n",
       "      <td>1984.865753</td>\n",
       "      <td>103.685262</td>\n",
       "      <td>443.639726</td>\n",
       "      <td>...</td>\n",
       "      <td>94.244521</td>\n",
       "      <td>46.660274</td>\n",
       "      <td>21.954110</td>\n",
       "      <td>3.409589</td>\n",
       "      <td>15.060959</td>\n",
       "      <td>2.758904</td>\n",
       "      <td>43.489041</td>\n",
       "      <td>6.321918</td>\n",
       "      <td>2007.815753</td>\n",
       "      <td>180921.195890</td>\n",
       "    </tr>\n",
       "    <tr>\n",
       "      <th>std</th>\n",
       "      <td>421.610009</td>\n",
       "      <td>42.300571</td>\n",
       "      <td>24.284752</td>\n",
       "      <td>9981.264932</td>\n",
       "      <td>1.382997</td>\n",
       "      <td>1.112799</td>\n",
       "      <td>30.202904</td>\n",
       "      <td>20.645407</td>\n",
       "      <td>181.066207</td>\n",
       "      <td>456.098091</td>\n",
       "      <td>...</td>\n",
       "      <td>125.338794</td>\n",
       "      <td>66.256028</td>\n",
       "      <td>61.119149</td>\n",
       "      <td>29.317331</td>\n",
       "      <td>55.757415</td>\n",
       "      <td>40.177307</td>\n",
       "      <td>496.123024</td>\n",
       "      <td>2.703626</td>\n",
       "      <td>1.328095</td>\n",
       "      <td>79442.502883</td>\n",
       "    </tr>\n",
       "    <tr>\n",
       "      <th>min</th>\n",
       "      <td>1.000000</td>\n",
       "      <td>20.000000</td>\n",
       "      <td>21.000000</td>\n",
       "      <td>1300.000000</td>\n",
       "      <td>1.000000</td>\n",
       "      <td>1.000000</td>\n",
       "      <td>1872.000000</td>\n",
       "      <td>1950.000000</td>\n",
       "      <td>0.000000</td>\n",
       "      <td>0.000000</td>\n",
       "      <td>...</td>\n",
       "      <td>0.000000</td>\n",
       "      <td>0.000000</td>\n",
       "      <td>0.000000</td>\n",
       "      <td>0.000000</td>\n",
       "      <td>0.000000</td>\n",
       "      <td>0.000000</td>\n",
       "      <td>0.000000</td>\n",
       "      <td>1.000000</td>\n",
       "      <td>2006.000000</td>\n",
       "      <td>34900.000000</td>\n",
       "    </tr>\n",
       "    <tr>\n",
       "      <th>25%</th>\n",
       "      <td>365.750000</td>\n",
       "      <td>20.000000</td>\n",
       "      <td>59.000000</td>\n",
       "      <td>7553.500000</td>\n",
       "      <td>5.000000</td>\n",
       "      <td>5.000000</td>\n",
       "      <td>1954.000000</td>\n",
       "      <td>1967.000000</td>\n",
       "      <td>0.000000</td>\n",
       "      <td>0.000000</td>\n",
       "      <td>...</td>\n",
       "      <td>0.000000</td>\n",
       "      <td>0.000000</td>\n",
       "      <td>0.000000</td>\n",
       "      <td>0.000000</td>\n",
       "      <td>0.000000</td>\n",
       "      <td>0.000000</td>\n",
       "      <td>0.000000</td>\n",
       "      <td>5.000000</td>\n",
       "      <td>2007.000000</td>\n",
       "      <td>129975.000000</td>\n",
       "    </tr>\n",
       "    <tr>\n",
       "      <th>50%</th>\n",
       "      <td>730.500000</td>\n",
       "      <td>50.000000</td>\n",
       "      <td>69.000000</td>\n",
       "      <td>9478.500000</td>\n",
       "      <td>6.000000</td>\n",
       "      <td>5.000000</td>\n",
       "      <td>1973.000000</td>\n",
       "      <td>1994.000000</td>\n",
       "      <td>0.000000</td>\n",
       "      <td>383.500000</td>\n",
       "      <td>...</td>\n",
       "      <td>0.000000</td>\n",
       "      <td>25.000000</td>\n",
       "      <td>0.000000</td>\n",
       "      <td>0.000000</td>\n",
       "      <td>0.000000</td>\n",
       "      <td>0.000000</td>\n",
       "      <td>0.000000</td>\n",
       "      <td>6.000000</td>\n",
       "      <td>2008.000000</td>\n",
       "      <td>163000.000000</td>\n",
       "    </tr>\n",
       "    <tr>\n",
       "      <th>75%</th>\n",
       "      <td>1095.250000</td>\n",
       "      <td>70.000000</td>\n",
       "      <td>80.000000</td>\n",
       "      <td>11601.500000</td>\n",
       "      <td>7.000000</td>\n",
       "      <td>6.000000</td>\n",
       "      <td>2000.000000</td>\n",
       "      <td>2004.000000</td>\n",
       "      <td>166.000000</td>\n",
       "      <td>712.250000</td>\n",
       "      <td>...</td>\n",
       "      <td>168.000000</td>\n",
       "      <td>68.000000</td>\n",
       "      <td>0.000000</td>\n",
       "      <td>0.000000</td>\n",
       "      <td>0.000000</td>\n",
       "      <td>0.000000</td>\n",
       "      <td>0.000000</td>\n",
       "      <td>8.000000</td>\n",
       "      <td>2009.000000</td>\n",
       "      <td>214000.000000</td>\n",
       "    </tr>\n",
       "    <tr>\n",
       "      <th>max</th>\n",
       "      <td>1460.000000</td>\n",
       "      <td>190.000000</td>\n",
       "      <td>313.000000</td>\n",
       "      <td>215245.000000</td>\n",
       "      <td>10.000000</td>\n",
       "      <td>9.000000</td>\n",
       "      <td>2010.000000</td>\n",
       "      <td>2010.000000</td>\n",
       "      <td>1600.000000</td>\n",
       "      <td>5644.000000</td>\n",
       "      <td>...</td>\n",
       "      <td>857.000000</td>\n",
       "      <td>547.000000</td>\n",
       "      <td>552.000000</td>\n",
       "      <td>508.000000</td>\n",
       "      <td>480.000000</td>\n",
       "      <td>738.000000</td>\n",
       "      <td>15500.000000</td>\n",
       "      <td>12.000000</td>\n",
       "      <td>2010.000000</td>\n",
       "      <td>755000.000000</td>\n",
       "    </tr>\n",
       "  </tbody>\n",
       "</table>\n",
       "<p>8 rows × 38 columns</p>\n",
       "</div>"
      ],
      "text/plain": [
       "                Id   MSSubClass  LotFrontage        LotArea  OverallQual  \\\n",
       "count  1460.000000  1460.000000  1201.000000    1460.000000  1460.000000   \n",
       "mean    730.500000    56.897260    70.049958   10516.828082     6.099315   \n",
       "std     421.610009    42.300571    24.284752    9981.264932     1.382997   \n",
       "min       1.000000    20.000000    21.000000    1300.000000     1.000000   \n",
       "25%     365.750000    20.000000    59.000000    7553.500000     5.000000   \n",
       "50%     730.500000    50.000000    69.000000    9478.500000     6.000000   \n",
       "75%    1095.250000    70.000000    80.000000   11601.500000     7.000000   \n",
       "max    1460.000000   190.000000   313.000000  215245.000000    10.000000   \n",
       "\n",
       "       OverallCond    YearBuilt  YearRemodAdd   MasVnrArea   BsmtFinSF1  ...  \\\n",
       "count  1460.000000  1460.000000   1460.000000  1452.000000  1460.000000  ...   \n",
       "mean      5.575342  1971.267808   1984.865753   103.685262   443.639726  ...   \n",
       "std       1.112799    30.202904     20.645407   181.066207   456.098091  ...   \n",
       "min       1.000000  1872.000000   1950.000000     0.000000     0.000000  ...   \n",
       "25%       5.000000  1954.000000   1967.000000     0.000000     0.000000  ...   \n",
       "50%       5.000000  1973.000000   1994.000000     0.000000   383.500000  ...   \n",
       "75%       6.000000  2000.000000   2004.000000   166.000000   712.250000  ...   \n",
       "max       9.000000  2010.000000   2010.000000  1600.000000  5644.000000  ...   \n",
       "\n",
       "        WoodDeckSF  OpenPorchSF  EnclosedPorch    3SsnPorch  ScreenPorch  \\\n",
       "count  1460.000000  1460.000000    1460.000000  1460.000000  1460.000000   \n",
       "mean     94.244521    46.660274      21.954110     3.409589    15.060959   \n",
       "std     125.338794    66.256028      61.119149    29.317331    55.757415   \n",
       "min       0.000000     0.000000       0.000000     0.000000     0.000000   \n",
       "25%       0.000000     0.000000       0.000000     0.000000     0.000000   \n",
       "50%       0.000000    25.000000       0.000000     0.000000     0.000000   \n",
       "75%     168.000000    68.000000       0.000000     0.000000     0.000000   \n",
       "max     857.000000   547.000000     552.000000   508.000000   480.000000   \n",
       "\n",
       "          PoolArea       MiscVal       MoSold       YrSold      SalePrice  \n",
       "count  1460.000000   1460.000000  1460.000000  1460.000000    1460.000000  \n",
       "mean      2.758904     43.489041     6.321918  2007.815753  180921.195890  \n",
       "std      40.177307    496.123024     2.703626     1.328095   79442.502883  \n",
       "min       0.000000      0.000000     1.000000  2006.000000   34900.000000  \n",
       "25%       0.000000      0.000000     5.000000  2007.000000  129975.000000  \n",
       "50%       0.000000      0.000000     6.000000  2008.000000  163000.000000  \n",
       "75%       0.000000      0.000000     8.000000  2009.000000  214000.000000  \n",
       "max     738.000000  15500.000000    12.000000  2010.000000  755000.000000  \n",
       "\n",
       "[8 rows x 38 columns]"
      ]
     },
     "execution_count": 6,
     "metadata": {},
     "output_type": "execute_result"
    }
   ],
   "source": [
    "train_df.describe()"
   ]
  },
  {
   "cell_type": "markdown",
   "id": "8d78c0b7",
   "metadata": {
    "papermill": {
     "duration": 0.02376,
     "end_time": "2024-07-09T11:39:08.872069",
     "exception": false,
     "start_time": "2024-07-09T11:39:08.848309",
     "status": "completed"
    },
    "tags": []
   },
   "source": [
    "# **Checking for NaNs**\n",
    "\n",
    "It is important to clean the data by removing or filling in NaN values, as they cannot be converted to numbers when training and thus cannot be used to compute the gradient or do the arithmetic necessary to train a model. We will start by looking at the data_description.txt to find out when a NaN is not actually a missing value.\n",
    "\n",
    "Let me explain: Generally, we tend to assume that NaNs mean the data was not collected or was not available. The data is missing. However, in this case, NaNs sometimes have a meaning of their own. For instance, in the FireplaceQu column, NaN doesn't mean the data wasn't collected - it means the house does not have a fireplace. Since the NaN values in this column don't actually indicate missing data, we will simply fill in with a new category (since the column is categorical): NoFireplace."
   ]
  },
  {
   "cell_type": "code",
   "execution_count": 7,
   "id": "5286f189",
   "metadata": {
    "execution": {
     "iopub.execute_input": "2024-07-09T11:39:08.921861Z",
     "iopub.status.busy": "2024-07-09T11:39:08.921478Z",
     "iopub.status.idle": "2024-07-09T11:39:08.928558Z",
     "shell.execute_reply": "2024-07-09T11:39:08.927293Z"
    },
    "papermill": {
     "duration": 0.035162,
     "end_time": "2024-07-09T11:39:08.931259",
     "exception": false,
     "start_time": "2024-07-09T11:39:08.896097",
     "status": "completed"
    },
    "tags": []
   },
   "outputs": [],
   "source": [
    "train_df.loc[train_df[\"FireplaceQu\"].isna(), \"FireplaceQu\"] = \"NoFireplace\""
   ]
  },
  {
   "cell_type": "markdown",
   "id": "43ad5cb4",
   "metadata": {
    "papermill": {
     "duration": 0.023874,
     "end_time": "2024-07-09T11:39:08.980593",
     "exception": false,
     "start_time": "2024-07-09T11:39:08.956719",
     "status": "completed"
    },
    "tags": []
   },
   "source": [
    "We then do this for all the other categorical columns where NaN has a certain meaning rather than indicating uncollected/unintentionally missing data. Since the data is categorical, we will fill in with a new category. Filling in for numeric values can be a bit more complex, so we will focus on the categorical columns for now."
   ]
  },
  {
   "cell_type": "code",
   "execution_count": 8,
   "id": "51f23286",
   "metadata": {
    "execution": {
     "iopub.execute_input": "2024-07-09T11:39:09.031246Z",
     "iopub.status.busy": "2024-07-09T11:39:09.030818Z",
     "iopub.status.idle": "2024-07-09T11:39:09.055037Z",
     "shell.execute_reply": "2024-07-09T11:39:09.053848Z"
    },
    "papermill": {
     "duration": 0.052991,
     "end_time": "2024-07-09T11:39:09.057821",
     "exception": false,
     "start_time": "2024-07-09T11:39:09.004830",
     "status": "completed"
    },
    "tags": []
   },
   "outputs": [],
   "source": [
    "train_df.loc[train_df[\"PoolQC\"].isna(), \"PoolQC\"] = \"NoPool\"\n",
    "train_df.loc[train_df[\"Fence\"].isna(), \"Fence\"] = \"NoFence\"\n",
    "train_df.loc[train_df[\"MiscFeature\"].isna(), \"MiscFeature\"] = \"NoMiscFeatures\"\n",
    "train_df.loc[train_df[\"MasVnrType\"].isna(), \"MasVnrType\"] = \"NoVnr\"\n",
    "train_df.loc[train_df[\"Alley\"].isna(), \"Alley\"] = \"NoAlley\"\n",
    "\n",
    "train_df.loc[train_df[\"GarageCond\"].isna(), \"GarageCond\"] = \"NoGarage\"\n",
    "train_df.loc[train_df[\"GarageQual\"].isna(), \"GarageQual\"] = \"NoGarage\"\n",
    "train_df.loc[train_df[\"GarageFinish\"].isna(), \"GarageFinish\"] = \"NoGarage\"\n",
    "train_df.loc[train_df[\"GarageType\"].isna(), \"GarageType\"] = \"NoGarage\"\n",
    "\n",
    "train_df.loc[train_df[\"BsmtCond\"].isna(), \"BsmtCond\"] = \"NoBasement\"\n",
    "train_df.loc[train_df[\"BsmtQual\"].isna(), \"BsmtQual\"] = \"NoBasement\"\n",
    "train_df.loc[train_df[\"BsmtFinType1\"].isna(), \"BsmtFinType1\"] = \"NoBasement\"\n",
    "train_df.loc[train_df[\"BsmtFinType2\"].isna(), \"BsmtFinType2\"] = \"NoBasement\"\n",
    "train_df.loc[train_df[\"BsmtExposure\"].isna(), \"BsmtExposure\"] = \"NoBasement\""
   ]
  },
  {
   "cell_type": "markdown",
   "id": "52ee209a",
   "metadata": {
    "papermill": {
     "duration": 0.024004,
     "end_time": "2024-07-09T11:39:09.105878",
     "exception": false,
     "start_time": "2024-07-09T11:39:09.081874",
     "status": "completed"
    },
    "tags": []
   },
   "source": [
    "Now we look at numerical columns where the NaNs have some sort of meaning. The most obvious one to me is the MasVnrArea column. This gives the area of the masonry veneer, but as we've seen with the MasVnrType column, some houses don't have masonry veneers. Let's check if the NaNs in the MasVnrArea column correspond with the NoVnr rows in the MasVnrType column."
   ]
  },
  {
   "cell_type": "code",
   "execution_count": 9,
   "id": "f6d4d9e0",
   "metadata": {
    "execution": {
     "iopub.execute_input": "2024-07-09T11:39:09.157299Z",
     "iopub.status.busy": "2024-07-09T11:39:09.156858Z",
     "iopub.status.idle": "2024-07-09T11:39:09.171568Z",
     "shell.execute_reply": "2024-07-09T11:39:09.169917Z"
    },
    "papermill": {
     "duration": 0.044419,
     "end_time": "2024-07-09T11:39:09.174716",
     "exception": false,
     "start_time": "2024-07-09T11:39:09.130297",
     "status": "completed"
    },
    "tags": []
   },
   "outputs": [
    {
     "data": {
      "text/plain": [
       "False"
      ]
     },
     "execution_count": 9,
     "metadata": {},
     "output_type": "execute_result"
    }
   ],
   "source": [
    "# Rows where MasVnrType is NoVnr\n",
    "no_veneer = train_df[train_df[\"MasVnrType\"] == \"NoVnr\"].index\n",
    "\n",
    "# Rows where MasVnrArea is NaN\n",
    "nan_vnr_area = train_df[train_df[\"MasVnrArea\"].isna()].index\n",
    "\n",
    "no_veneer.equals(nan_vnr_area)"
   ]
  },
  {
   "cell_type": "markdown",
   "id": "ad44e5eb",
   "metadata": {
    "papermill": {
     "duration": 0.026167,
     "end_time": "2024-07-09T11:39:09.226690",
     "exception": false,
     "start_time": "2024-07-09T11:39:09.200523",
     "status": "completed"
    },
    "tags": []
   },
   "source": [
    "The indices are not equal. That's odd. Let's take a closer look."
   ]
  },
  {
   "cell_type": "code",
   "execution_count": 10,
   "id": "390ef3cd",
   "metadata": {
    "execution": {
     "iopub.execute_input": "2024-07-09T11:39:09.288366Z",
     "iopub.status.busy": "2024-07-09T11:39:09.287903Z",
     "iopub.status.idle": "2024-07-09T11:39:09.299893Z",
     "shell.execute_reply": "2024-07-09T11:39:09.298784Z"
    },
    "papermill": {
     "duration": 0.044258,
     "end_time": "2024-07-09T11:39:09.302533",
     "exception": false,
     "start_time": "2024-07-09T11:39:09.258275",
     "status": "completed"
    },
    "tags": []
   },
   "outputs": [
    {
     "name": "stdout",
     "output_type": "stream",
     "text": [
      "Index([   1,    3,    5,    8,    9,   10,   12,   15,   17,   18,\n",
      "       ...\n",
      "       1445, 1448, 1449, 1450, 1453, 1454, 1455, 1457, 1458, 1459],\n",
      "      dtype='int64', length=872)\n",
      "Index([234, 529, 650, 936, 973, 977, 1243, 1278], dtype='int64')\n",
      "True\n"
     ]
    }
   ],
   "source": [
    "print(no_veneer)\n",
    "print(nan_vnr_area)\n",
    "print(nan_vnr_area.isin(no_veneer).all())"
   ]
  },
  {
   "cell_type": "markdown",
   "id": "4390d68e",
   "metadata": {
    "papermill": {
     "duration": 0.025379,
     "end_time": "2024-07-09T11:39:09.354209",
     "exception": false,
     "start_time": "2024-07-09T11:39:09.328830",
     "status": "completed"
    },
    "tags": []
   },
   "source": [
    "So we see that all the NaN values in MasVnrArea correspond to rows where MasVnrType is NoVnr (i.e. no masonry veneer), which makes sense, and means that the NaNs in MasVnrArea should be set to 0, as there is no area. Let's do a sanity check that all the NoVnr rows in MasVnrType correspond to either 0 or NaN in MasVnrArea, and turn the MasVnrArea NaN values to 0."
   ]
  },
  {
   "cell_type": "code",
   "execution_count": 11,
   "id": "d095b879",
   "metadata": {
    "execution": {
     "iopub.execute_input": "2024-07-09T11:39:09.406662Z",
     "iopub.status.busy": "2024-07-09T11:39:09.406270Z",
     "iopub.status.idle": "2024-07-09T11:39:09.419987Z",
     "shell.execute_reply": "2024-07-09T11:39:09.418745Z"
    },
    "papermill": {
     "duration": 0.04497,
     "end_time": "2024-07-09T11:39:09.423444",
     "exception": false,
     "start_time": "2024-07-09T11:39:09.378474",
     "status": "completed"
    },
    "tags": []
   },
   "outputs": [
    {
     "data": {
      "text/plain": [
       "array([  0., 288.,   1., 344., 312.])"
      ]
     },
     "execution_count": 11,
     "metadata": {},
     "output_type": "execute_result"
    }
   ],
   "source": [
    "# Filling in MasVnrArea NaNs\n",
    "train_df.loc[train_df[\"MasVnrArea\"].isna(), \"MasVnrArea\"] = 0\n",
    "\n",
    "# Sanity check - finding all the veneer areas where VnrType is no veneer.\n",
    "train_df.loc[train_df[\"MasVnrType\"] == \"NoVnr\", \"MasVnrArea\"].unique()"
   ]
  },
  {
   "cell_type": "markdown",
   "id": "fe8f637e",
   "metadata": {
    "papermill": {
     "duration": 0.025229,
     "end_time": "2024-07-09T11:39:09.474733",
     "exception": false,
     "start_time": "2024-07-09T11:39:09.449504",
     "status": "completed"
    },
    "tags": []
   },
   "source": [
    "Now we have a problem. Some of the rows that we labelled NoVnr actually have veneer areas. What this likely means is that while some of the NaNs in the MasVnrType do correspond to no masonry veneer, some of the NaNs there were actually missing data. We were too hasty to believe the data_description.txt, and we should have some **sanity checks** in place before assuming that every NaN means something/none of the NaNs represent truly missing data. Let's set MasVnrType back to NaN where the MasVnrArea is > 0."
   ]
  },
  {
   "cell_type": "code",
   "execution_count": 12,
   "id": "7ef16ddc",
   "metadata": {
    "execution": {
     "iopub.execute_input": "2024-07-09T11:39:09.528428Z",
     "iopub.status.busy": "2024-07-09T11:39:09.528004Z",
     "iopub.status.idle": "2024-07-09T11:39:09.536635Z",
     "shell.execute_reply": "2024-07-09T11:39:09.535108Z"
    },
    "papermill": {
     "duration": 0.038229,
     "end_time": "2024-07-09T11:39:09.539810",
     "exception": false,
     "start_time": "2024-07-09T11:39:09.501581",
     "status": "completed"
    },
    "tags": []
   },
   "outputs": [],
   "source": [
    "train_df.loc[(train_df[\"MasVnrArea\"] > 0) & (train_df[\"MasVnrType\"] == \"NoVnr\"), \"MasVnrType\"] = np.nan"
   ]
  },
  {
   "cell_type": "markdown",
   "id": "efc5b60c",
   "metadata": {
    "papermill": {
     "duration": 0.090697,
     "end_time": "2024-07-09T11:39:09.655774",
     "exception": false,
     "start_time": "2024-07-09T11:39:09.565077",
     "status": "completed"
    },
    "tags": []
   },
   "source": [
    "We'll also do similar sanity checks for the garage, pool and basement columns. First, we set the \"NoGarage\" and \"NoBasement\" values back to NaN, and only fill in the NaN value if all the relevant columns are NaN. For the pool column, since we have PoolArea, we'll do the same thing as for MasVnrArea."
   ]
  },
  {
   "cell_type": "code",
   "execution_count": 13,
   "id": "6a05d5ab",
   "metadata": {
    "execution": {
     "iopub.execute_input": "2024-07-09T11:39:09.707923Z",
     "iopub.status.busy": "2024-07-09T11:39:09.707523Z",
     "iopub.status.idle": "2024-07-09T11:39:09.741472Z",
     "shell.execute_reply": "2024-07-09T11:39:09.739695Z"
    },
    "papermill": {
     "duration": 0.063568,
     "end_time": "2024-07-09T11:39:09.744500",
     "exception": false,
     "start_time": "2024-07-09T11:39:09.680932",
     "status": "completed"
    },
    "tags": []
   },
   "outputs": [],
   "source": [
    "basement_cols = [\"BsmtCond\", \"BsmtQual\", \"BsmtFinType1\", \"BsmtFinType2\", \"BsmtExposure\"]\n",
    "garage_cols = [\"GarageCond\", \"GarageQual\", \"GarageType\", \"GarageFinish\"]\n",
    "\n",
    "for basement_col in basement_cols:\n",
    "    train_df.loc[train_df[basement_col] == \"NoBasement\", basement_col] = np.nan\n",
    "\n",
    "for garage_col in garage_cols:\n",
    "    train_df.loc[train_df[garage_col] == \"NoGarage\", garage_col] = np.nan\n",
    "\n",
    "train_df.loc[(train_df[\"BsmtCond\"].isna()) & (train_df[\"BsmtQual\"].isna()) & (train_df[\"BsmtFinType1\"].isna()) & (train_df[\"BsmtFinType2\"].isna()) & (train_df[\"BsmtExposure\"].isna()), basement_cols] = \"NoBasement\"\n",
    "train_df.loc[(train_df[\"GarageCond\"].isna()) & (train_df[\"GarageQual\"].isna()) & (train_df[\"GarageType\"].isna()) & (train_df[\"GarageFinish\"].isna()), garage_cols] = \"NoGarage\"\n",
    "\n",
    "train_df.loc[(train_df[\"PoolArea\"] > 0) & (train_df[\"PoolQC\"] == \"NoPool\"), \"PoolQC\"] = np.nan"
   ]
  },
  {
   "cell_type": "markdown",
   "id": "832d7333",
   "metadata": {
    "papermill": {
     "duration": 0.024392,
     "end_time": "2024-07-09T11:39:09.794410",
     "exception": false,
     "start_time": "2024-07-09T11:39:09.770018",
     "status": "completed"
    },
    "tags": []
   },
   "source": [
    "There aren't any sanity checks we can do for MiscFeature, etc., so we'll leave those alone.\n",
    "\n",
    "As for NaNs in the numerical columns, based on the data_description.txt, it looks like most of the NaNs there do genuinely mean \"value was not measured/is unintentionally missing\", and thus are hard to assign values for. For instance, with the LotFrontage column, which refers to how many feet of street connect to the property, we could potentially assume that NaN means 0, but we don't know for sure, so we'll leave those NaNs alone for now and later we can fill in the NaNs with the mean of the column if it looks like a column worth keeping.\n",
    "\n",
    "If any of the categorical columns still contain NaNs and we don't want to remove the row or column, we'd probably fill the NaN in with the mode of the column (the most common category), since all the NaNs which represent something have already been filled in."
   ]
  },
  {
   "cell_type": "markdown",
   "id": "26011fe6",
   "metadata": {
    "papermill": {
     "duration": 0.024212,
     "end_time": "2024-07-09T11:39:09.843137",
     "exception": false,
     "start_time": "2024-07-09T11:39:09.818925",
     "status": "completed"
    },
    "tags": []
   },
   "source": [
    "## Columns\n",
    "\n",
    "The below returns the names of all columns containing NaNs, as well as the number of NaNs per column. Fraction_NaNs shows what fraction of the column is NaN."
   ]
  },
  {
   "cell_type": "code",
   "execution_count": 14,
   "id": "ddf29cc4",
   "metadata": {
    "execution": {
     "iopub.execute_input": "2024-07-09T11:39:09.893700Z",
     "iopub.status.busy": "2024-07-09T11:39:09.893318Z",
     "iopub.status.idle": "2024-07-09T11:39:09.918576Z",
     "shell.execute_reply": "2024-07-09T11:39:09.917296Z"
    },
    "papermill": {
     "duration": 0.053592,
     "end_time": "2024-07-09T11:39:09.921281",
     "exception": false,
     "start_time": "2024-07-09T11:39:09.867689",
     "status": "completed"
    },
    "tags": []
   },
   "outputs": [
    {
     "data": {
      "text/html": [
       "<div>\n",
       "<style scoped>\n",
       "    .dataframe tbody tr th:only-of-type {\n",
       "        vertical-align: middle;\n",
       "    }\n",
       "\n",
       "    .dataframe tbody tr th {\n",
       "        vertical-align: top;\n",
       "    }\n",
       "\n",
       "    .dataframe thead th {\n",
       "        text-align: right;\n",
       "    }\n",
       "</style>\n",
       "<table border=\"1\" class=\"dataframe\">\n",
       "  <thead>\n",
       "    <tr style=\"text-align: right;\">\n",
       "      <th></th>\n",
       "      <th>Num_NaNs</th>\n",
       "      <th>Fraction_NaNs</th>\n",
       "    </tr>\n",
       "  </thead>\n",
       "  <tbody>\n",
       "    <tr>\n",
       "      <th>BsmtExposure</th>\n",
       "      <td>1</td>\n",
       "      <td>0.000685</td>\n",
       "    </tr>\n",
       "    <tr>\n",
       "      <th>BsmtFinType2</th>\n",
       "      <td>1</td>\n",
       "      <td>0.000685</td>\n",
       "    </tr>\n",
       "    <tr>\n",
       "      <th>Electrical</th>\n",
       "      <td>1</td>\n",
       "      <td>0.000685</td>\n",
       "    </tr>\n",
       "    <tr>\n",
       "      <th>MasVnrType</th>\n",
       "      <td>5</td>\n",
       "      <td>0.003425</td>\n",
       "    </tr>\n",
       "    <tr>\n",
       "      <th>GarageYrBlt</th>\n",
       "      <td>81</td>\n",
       "      <td>0.055479</td>\n",
       "    </tr>\n",
       "    <tr>\n",
       "      <th>LotFrontage</th>\n",
       "      <td>259</td>\n",
       "      <td>0.177397</td>\n",
       "    </tr>\n",
       "  </tbody>\n",
       "</table>\n",
       "</div>"
      ],
      "text/plain": [
       "              Num_NaNs  Fraction_NaNs\n",
       "BsmtExposure         1       0.000685\n",
       "BsmtFinType2         1       0.000685\n",
       "Electrical           1       0.000685\n",
       "MasVnrType           5       0.003425\n",
       "GarageYrBlt         81       0.055479\n",
       "LotFrontage        259       0.177397"
      ]
     },
     "execution_count": 14,
     "metadata": {},
     "output_type": "execute_result"
    }
   ],
   "source": [
    "nan_cols = pd.DataFrame(train_df.isna().sum()).rename(columns={0: \"Num_NaNs\"})\n",
    "nan_cols[\"Fraction_NaNs\"] = nan_cols[\"Num_NaNs\"] / len(train_df)\n",
    "nan_cols.loc[nan_cols[\"Num_NaNs\"] > 0].sort_values(by=\"Fraction_NaNs\")"
   ]
  },
  {
   "cell_type": "markdown",
   "id": "a0719613",
   "metadata": {
    "papermill": {
     "duration": 0.026662,
     "end_time": "2024-07-09T11:39:09.972789",
     "exception": false,
     "start_time": "2024-07-09T11:39:09.946127",
     "status": "completed"
    },
    "tags": []
   },
   "source": [
    "If a column had a very large fraction of NaNs compared to the total number of rows, we would remove it as it will likely not be useful or provide any extra information in most cases. Columns with lots of NaNs also contribute to **sparse data**, which increases model complexity and time/computational power required to train without really adding value or increasing predictive accuracy.\n",
    "\n",
    "Here, I don't think any of the columns have enough NaNs for me to immediately want to remove them, although LotFrontage is on the fence. For the columns with fewer NaNs, I'd prefer to remove the rows instead of columns since removing a row removes 81 values (since that's how many columns we have), while removing a column removes 1460 values (since there are 1460 rows). The longer your dataset/the more data points you have, the more data you lose by removing a column. So if we decide not to impute the NaNs in e.g. the MasVnrType, we'd remove 5 rows and lose 401 values instead of removing the whole column and losing 1460 values.\n",
    "\n",
    "Later, we will look at boxplots and scatter plots of each column vs. the label we're predicting (the Sale Price), as well as the value counts, to get a sense of which columns are worth keeping and which we can safely throw out. In that process, we may end up removing the columns with NaNs anyway (for instance, I'd be very surprised if the year the garage was built had any impact on the sale price). Again, LotFrontage is probably a column that will be dropped very quickly if it doesn't look incredibly useful.\n",
    "\n",
    "If the columns containing NaNs end up looking useful, though, then we'll need to fill in the NaNs somehow.\n",
    "\n",
    "One notable exception is that if one of the columns with NaNs is a categorical column that you plan to one-hot encode, you don't have to fill the NaNs with anything - all the one-hot encoded columns will simply be 0 for that row."
   ]
  },
  {
   "cell_type": "markdown",
   "id": "cf5ebe2b",
   "metadata": {
    "papermill": {
     "duration": 0.024798,
     "end_time": "2024-07-09T11:39:10.024318",
     "exception": false,
     "start_time": "2024-07-09T11:39:09.999520",
     "status": "completed"
    },
    "tags": []
   },
   "source": [
    "## Rows\n",
    "\n",
    "If there were lots of columns still containing NaNs, I'd also look at the NaN count of each row to see if maybe some rows contain tons of NaNs and thus are worth dropping (e.g. a row that is more than 50% NaNs is definitely worth throwing out). However, with relatively few of the columns containing NaNs, I think I'll go straight to seeing which columns/features look useful in predicting the Sale Price label."
   ]
  },
  {
   "cell_type": "markdown",
   "id": "6fa601c3",
   "metadata": {
    "papermill": {
     "duration": 0.033683,
     "end_time": "2024-07-09T11:39:10.083343",
     "exception": false,
     "start_time": "2024-07-09T11:39:10.049660",
     "status": "completed"
    },
    "tags": []
   },
   "source": [
    "# **Turning Categorical Data into Numbers**\n",
    "\n",
    "## Reasoning\n",
    "\n",
    "Turning categorical data into numerical data is essential if we choose to use a regression approach (e.g. multiple linear regression), or any neural network-based approach. These are dependent on numerical inputs.\n",
    "\n",
    "Categorical inputs are theoretically allowed if we are using something based on decision trees (e.g. a **random forest**, which involves using multiple parallel decision trees and chooses the answer that the most trees agree with, or **gradient-boosting trees**, which uses multiple weak learner decision trees in sequence to come to a single conclusion). However, some libraries (e.g. xgboost) require numerical inputs anyway. I'd also like to demonstrate the different ways in which we can turn categorical data into numbers.\n",
    "\n",
    "Here, we start going through the columns whose dtypes are object, meaning they are not numerical. We'll also start a list of the categorical columns not worth keeping."
   ]
  },
  {
   "cell_type": "code",
   "execution_count": 15,
   "id": "4183ab36",
   "metadata": {
    "execution": {
     "iopub.execute_input": "2024-07-09T11:39:10.142279Z",
     "iopub.status.busy": "2024-07-09T11:39:10.141834Z",
     "iopub.status.idle": "2024-07-09T11:39:10.148553Z",
     "shell.execute_reply": "2024-07-09T11:39:10.147278Z"
    },
    "papermill": {
     "duration": 0.037651,
     "end_time": "2024-07-09T11:39:10.152201",
     "exception": false,
     "start_time": "2024-07-09T11:39:10.114550",
     "status": "completed"
    },
    "tags": []
   },
   "outputs": [],
   "source": [
    "drop_cols_categorical = []"
   ]
  },
  {
   "cell_type": "markdown",
   "id": "6354c465",
   "metadata": {
    "papermill": {
     "duration": 0.028863,
     "end_time": "2024-07-09T11:39:10.209986",
     "exception": false,
     "start_time": "2024-07-09T11:39:10.181123",
     "status": "completed"
    },
    "tags": []
   },
   "source": [
    "### MSZoning\n",
    "\n",
    "We see from the value counts that there are 5 possible values for \"MSZoning\" with some level of distribution. By some level of distribution, I mean that we don't see a split like 1450-2-2-2-4, in which case many of the categories would have too few values to be useful and the column wouldn't really tell us much about most of the entries. If there isn't a good distribution of categories, I find it better to get rid of the column, especially if the boxplots don't show anything significant.\n",
    "\n",
    "In particular, if we have a poor distribution of values but one of the minority categories forms a cluster of extremely high prices, that feature column may still be useful because the minority category may indicate something that most people cannot afford (so is uncommon) but drives up the house price a lot. This is why boxplots for categorical features are useful to look at.\n",
    "\n",
    "For MSZoning, the boxplots do seem to show some distinction in the Sale Price based on the category (e.g. there's little to no overlap between C (all) and FV house prices), so this is a column to keep."
   ]
  },
  {
   "cell_type": "code",
   "execution_count": 16,
   "id": "678751b4",
   "metadata": {
    "execution": {
     "iopub.execute_input": "2024-07-09T11:39:10.263154Z",
     "iopub.status.busy": "2024-07-09T11:39:10.262126Z",
     "iopub.status.idle": "2024-07-09T11:39:10.274825Z",
     "shell.execute_reply": "2024-07-09T11:39:10.273546Z"
    },
    "papermill": {
     "duration": 0.042459,
     "end_time": "2024-07-09T11:39:10.277270",
     "exception": false,
     "start_time": "2024-07-09T11:39:10.234811",
     "status": "completed"
    },
    "tags": []
   },
   "outputs": [
    {
     "data": {
      "text/plain": [
       "MSZoning\n",
       "RL         1151\n",
       "RM          218\n",
       "FV           65\n",
       "RH           16\n",
       "C (all)      10\n",
       "Name: count, dtype: int64"
      ]
     },
     "execution_count": 16,
     "metadata": {},
     "output_type": "execute_result"
    }
   ],
   "source": [
    "train_df[\"MSZoning\"].value_counts()"
   ]
  },
  {
   "cell_type": "code",
   "execution_count": 17,
   "id": "62e38c96",
   "metadata": {
    "execution": {
     "iopub.execute_input": "2024-07-09T11:39:10.330419Z",
     "iopub.status.busy": "2024-07-09T11:39:10.329852Z",
     "iopub.status.idle": "2024-07-09T11:39:10.878951Z",
     "shell.execute_reply": "2024-07-09T11:39:10.877767Z"
    },
    "papermill": {
     "duration": 0.579533,
     "end_time": "2024-07-09T11:39:10.882071",
     "exception": false,
     "start_time": "2024-07-09T11:39:10.302538",
     "status": "completed"
    },
    "tags": []
   },
   "outputs": [
    {
     "data": {
      "image/png": "[encoded data removed]",
      "text/plain": [
       "<Figure size 750x350 with 1 Axes>"
      ]
     },
     "metadata": {},
     "output_type": "display_data"
    }
   ],
   "source": [
    "make_boxplots_of_categorical_data(train_df, \"MSZoning\")"
   ]
  },
  {
   "cell_type": "markdown",
   "id": "1bd120af",
   "metadata": {
    "papermill": {
     "duration": 0.037478,
     "end_time": "2024-07-09T11:39:10.948536",
     "exception": false,
     "start_time": "2024-07-09T11:39:10.911058",
     "status": "completed"
    },
    "tags": []
   },
   "source": [
    "Because there are 5 unique values, we can use **one-hot encoding** on this categorical data. One-hot encoding involves creating a new column for each possible categorical value, meaning we would have 5 new columns (one for each possible unique value). We fill in 1s where the value matches, i.e. the MSZoning_is_RL column would be set to 1 where the MSZoning column is RL. We don't have any NaNs in the MSZoning column, but if we did, we could have all the one-hot encoded columns for MSZoning be 0 where MSZoning is NaN.\n",
    "\n",
    "One-hot encoding is good when there are very few unique categorical values in the column, such as here, because it doesn't expand the size of the data too much (which would require increased memory and power to train). However, in cases where there are too many categorical values (e.g. a list of all the first names of employees in a company - there could be hundreds of unique names!), this may not be such a good idea as it causes very sparse data.\n",
    "\n",
    "When there is a natural scale to the categorical data (e.g. categories are [very sad, sad, neutral, happy, very happy]), one-hot encoding can be avoided by converting the categories directly into numbers (in the above example, this could be a scale from 1-5 with very sad being 1 and very happy being 5). This is called **ordinal encoding**, and is favorable due to taking less space (1 column alone instead of 1 columns for each unique value) and assigns a relative meaning to the values instead of only encoding each value's existence.\n",
    "\n",
    "It is important to **be cautious** about doing this when the categories have no natural scale, since machine learning algorithms will naturally assign value to the order of the numbers. Since MSZoning does not have any natural scale, we'll stick to one-hot encoding.\n",
    "\n",
    "Note that we will encode MSZoning later rather than right now, for reasons that will be explained."
   ]
  },
  {
   "cell_type": "markdown",
   "id": "650994d5",
   "metadata": {
    "papermill": {
     "duration": 0.026152,
     "end_time": "2024-07-09T11:39:11.002492",
     "exception": false,
     "start_time": "2024-07-09T11:39:10.976340",
     "status": "completed"
    },
    "tags": []
   },
   "source": [
    "### Street\n",
    "\n",
    "Since there are just 2 possible values here, it is possible to ordinal-encode with 0 for Pave and 1 for Grvl. However, it is worth asking if this column is even useful, since Grvl only appears 6 times in the whole training set. \n",
    "\n",
    "If the split of value counts were more even, I would make boxplots of each unique value to see if e.g. Grvl Streets form a small cluster of extremely high or extremely low prices, and use that to give me an idea of if the column would be useful. However, there are too few Grvl values for any conclusions with this column to be useful, and any model we train might assign too much importance to the conclusions drawn from this column. I will remove this column from the training set."
   ]
  },
  {
   "cell_type": "code",
   "execution_count": 18,
   "id": "546553b8",
   "metadata": {
    "execution": {
     "iopub.execute_input": "2024-07-09T11:39:11.063689Z",
     "iopub.status.busy": "2024-07-09T11:39:11.063164Z",
     "iopub.status.idle": "2024-07-09T11:39:11.074546Z",
     "shell.execute_reply": "2024-07-09T11:39:11.073254Z"
    },
    "papermill": {
     "duration": 0.041632,
     "end_time": "2024-07-09T11:39:11.077253",
     "exception": false,
     "start_time": "2024-07-09T11:39:11.035621",
     "status": "completed"
    },
    "tags": []
   },
   "outputs": [
    {
     "data": {
      "text/plain": [
       "Street\n",
       "Pave    1454\n",
       "Grvl       6\n",
       "Name: count, dtype: int64"
      ]
     },
     "execution_count": 18,
     "metadata": {},
     "output_type": "execute_result"
    }
   ],
   "source": [
    "train_df[\"Street\"].value_counts()"
   ]
  },
  {
   "cell_type": "code",
   "execution_count": 19,
   "id": "a5096894",
   "metadata": {
    "execution": {
     "iopub.execute_input": "2024-07-09T11:39:11.131390Z",
     "iopub.status.busy": "2024-07-09T11:39:11.130463Z",
     "iopub.status.idle": "2024-07-09T11:39:11.136480Z",
     "shell.execute_reply": "2024-07-09T11:39:11.135265Z"
    },
    "papermill": {
     "duration": 0.036111,
     "end_time": "2024-07-09T11:39:11.139428",
     "exception": false,
     "start_time": "2024-07-09T11:39:11.103317",
     "status": "completed"
    },
    "tags": []
   },
   "outputs": [],
   "source": [
    "drop_cols_categorical.append(\"Street\")"
   ]
  },
  {
   "cell_type": "markdown",
   "id": "30f98cd6",
   "metadata": {
    "papermill": {
     "duration": 0.025905,
     "end_time": "2024-07-09T11:39:11.194886",
     "exception": false,
     "start_time": "2024-07-09T11:39:11.168981",
     "status": "completed"
    },
    "tags": []
   },
   "source": [
    "If you have columns/features which you aren't sure about the usefulness of, you can use backward elimination or forward selection to decide which features to use while training.\n",
    "\n",
    "**Backward elimination** involves starting with a model with all features (or all the features you have even the slightest suspicion might be useful) and then eliminating features one by one to see if doing so improves predictions. In this case, that would mean keeping Street for now in the training data and then training a 2nd model later without Street.\n",
    "\n",
    "**Forward selection** involves starting with only 1 feature (likely the feature you're most confident in - in this case, perhaps LotArea) and adding features one by one to see if they improve the predictions. This would mean starting without the Street feature and then adding it in later.\n",
    "\n",
    "As far as I'm aware, Kaggle competitions allow the submission of only 1 model. Still, if I were able to train multiple models, I would personally prefer the backward elimination approach as that allows us to leverage any potential connections in the data (i.e. joint predictive ability). This is important if you have a case like below:\n",
    "\n",
    "- High value for feature 1 + low value for feature 2 --> low label value\n",
    "- Low value for feature 1 + high value for feature 2 --> low label value\n",
    "- High value for feature 1 + high value for feature 2 --> high label value\n",
    "- Low value for feature 1 + low value for feature 2 --> high label value\n",
    "\n",
    "In this case, if both features are high or both features are low, that correlated to high label values, but if only one feature is high and the other is low, we get low label values. This is an extreme case and I can't think of an example where this would happen in real life, but hopefully it's an intuitive example to show why it would be important to keep both feature 1 and feature 2.\n",
    "\n",
    "Deciding which features to include in forward selection, or to eliminate in backward elimination, can be done using the insights gained from exploratory data analysis. For categorical features with no natural scale, this would include boxplots for each unique categorical value of the SalePrice (the label), like we did above with MSZoning. For categorical features with a natural scale, those can be converted to numbers and then plotted in a scatterplot against the label just like we would for any numerical column. This helps us see visually which features seem related to the final label in some way, and will be most useful for predicting the label."
   ]
  },
  {
   "cell_type": "markdown",
   "id": "342261dd",
   "metadata": {
    "papermill": {
     "duration": 0.025784,
     "end_time": "2024-07-09T11:39:11.246709",
     "exception": false,
     "start_time": "2024-07-09T11:39:11.220925",
     "status": "completed"
    },
    "tags": []
   },
   "source": [
    "### LotShape\n",
    "\n",
    "The data description here shows that the categories relate to how irregular the lot is:\n",
    "\n",
    "- Reg: Normal shape\n",
    "- IR1: A bit irregular\n",
    "- IR2: A little more irregular\n",
    "- IR3: Irregular\n",
    "\n",
    "Because of this natural scale, we can ordinal encode the column from 0 (regular) to 1 (IR3).\n",
    "\n",
    "Boxplots show that the average SalePrice for each category tends to be about the same at $200,000, and the spreads are kind of similar besides the high-end outliers, so I'm going to drop the column. But before that, I do want to show what it would look like if I decided to ordinal encode the column."
   ]
  },
  {
   "cell_type": "code",
   "execution_count": 20,
   "id": "c499cce2",
   "metadata": {
    "execution": {
     "iopub.execute_input": "2024-07-09T11:39:11.302701Z",
     "iopub.status.busy": "2024-07-09T11:39:11.302170Z",
     "iopub.status.idle": "2024-07-09T11:39:11.314992Z",
     "shell.execute_reply": "2024-07-09T11:39:11.312902Z"
    },
    "papermill": {
     "duration": 0.046186,
     "end_time": "2024-07-09T11:39:11.318871",
     "exception": false,
     "start_time": "2024-07-09T11:39:11.272685",
     "status": "completed"
    },
    "tags": []
   },
   "outputs": [
    {
     "data": {
      "text/plain": [
       "LotShape\n",
       "Reg    925\n",
       "IR1    484\n",
       "IR2     41\n",
       "IR3     10\n",
       "Name: count, dtype: int64"
      ]
     },
     "execution_count": 20,
     "metadata": {},
     "output_type": "execute_result"
    }
   ],
   "source": [
    "train_df[\"LotShape\"].value_counts()"
   ]
  },
  {
   "cell_type": "code",
   "execution_count": 21,
   "id": "174498e4",
   "metadata": {
    "execution": {
     "iopub.execute_input": "2024-07-09T11:39:11.393073Z",
     "iopub.status.busy": "2024-07-09T11:39:11.392566Z",
     "iopub.status.idle": "2024-07-09T11:39:11.807544Z",
     "shell.execute_reply": "2024-07-09T11:39:11.806344Z"
    },
    "papermill": {
     "duration": 0.451824,
     "end_time": "2024-07-09T11:39:11.810284",
     "exception": false,
     "start_time": "2024-07-09T11:39:11.358460",
     "status": "completed"
    },
    "tags": []
   },
   "outputs": [
    {
     "data": {
      "image/png": "[encoded data removed]",
      "text/plain": [
       "<Figure size 750x350 with 1 Axes>"
      ]
     },
     "metadata": {},
     "output_type": "display_data"
    }
   ],
   "source": [
    "make_boxplots_of_categorical_data(train_df, \"LotShape\")"
   ]
  },
  {
   "cell_type": "code",
   "execution_count": 22,
   "id": "67180528",
   "metadata": {
    "execution": {
     "iopub.execute_input": "2024-07-09T11:39:11.866977Z",
     "iopub.status.busy": "2024-07-09T11:39:11.866541Z",
     "iopub.status.idle": "2024-07-09T11:39:11.880069Z",
     "shell.execute_reply": "2024-07-09T11:39:11.878710Z"
    },
    "papermill": {
     "duration": 0.044683,
     "end_time": "2024-07-09T11:39:11.882772",
     "exception": false,
     "start_time": "2024-07-09T11:39:11.838089",
     "status": "completed"
    },
    "tags": []
   },
   "outputs": [
    {
     "data": {
      "text/plain": [
       "array([0.        , 0.33333333, 0.66666667, 1.        ])"
      ]
     },
     "execution_count": 22,
     "metadata": {},
     "output_type": "execute_result"
    }
   ],
   "source": [
    "# This is how I'd ordinal encode the column. All the categories have been converted to numbers.\n",
    "lotshape_dict = {\"Reg\": 0, \"IR1\": 1/3, \"IR2\": 2/3, \"IR3\": 1}\n",
    "train_df[\"LotShape\"] = train_df[\"LotShape\"].replace(lotshape_dict).astype(float)\n",
    "train_df[\"LotShape\"].unique()"
   ]
  },
  {
   "cell_type": "code",
   "execution_count": 23,
   "id": "020e468f",
   "metadata": {
    "execution": {
     "iopub.execute_input": "2024-07-09T11:39:11.938871Z",
     "iopub.status.busy": "2024-07-09T11:39:11.938345Z",
     "iopub.status.idle": "2024-07-09T11:39:11.943858Z",
     "shell.execute_reply": "2024-07-09T11:39:11.942696Z"
    },
    "papermill": {
     "duration": 0.036979,
     "end_time": "2024-07-09T11:39:11.946522",
     "exception": false,
     "start_time": "2024-07-09T11:39:11.909543",
     "status": "completed"
    },
    "tags": []
   },
   "outputs": [],
   "source": [
    "# But actually we don't even want the column, so we're going to drop it.\n",
    "drop_cols_categorical.append(\"LotShape\")"
   ]
  },
  {
   "cell_type": "markdown",
   "id": "8d52d543",
   "metadata": {
    "papermill": {
     "duration": 0.031231,
     "end_time": "2024-07-09T11:39:12.006004",
     "exception": false,
     "start_time": "2024-07-09T11:39:11.974773",
     "status": "completed"
    },
    "tags": []
   },
   "source": [
    "### Utilities\n",
    "\n",
    "This columns has 2 unique values, and only 1 instance of 1 of the values, so we will drop this column as it doesn't provide useful or unique information."
   ]
  },
  {
   "cell_type": "code",
   "execution_count": 24,
   "id": "6547ea28",
   "metadata": {
    "execution": {
     "iopub.execute_input": "2024-07-09T11:39:12.061815Z",
     "iopub.status.busy": "2024-07-09T11:39:12.061386Z",
     "iopub.status.idle": "2024-07-09T11:39:12.070595Z",
     "shell.execute_reply": "2024-07-09T11:39:12.069498Z"
    },
    "papermill": {
     "duration": 0.040475,
     "end_time": "2024-07-09T11:39:12.073266",
     "exception": false,
     "start_time": "2024-07-09T11:39:12.032791",
     "status": "completed"
    },
    "tags": []
   },
   "outputs": [
    {
     "data": {
      "text/plain": [
       "Utilities\n",
       "AllPub    1459\n",
       "NoSeWa       1\n",
       "Name: count, dtype: int64"
      ]
     },
     "execution_count": 24,
     "metadata": {},
     "output_type": "execute_result"
    }
   ],
   "source": [
    "train_df[\"Utilities\"].value_counts()"
   ]
  },
  {
   "cell_type": "code",
   "execution_count": 25,
   "id": "c5f81203",
   "metadata": {
    "execution": {
     "iopub.execute_input": "2024-07-09T11:39:12.128335Z",
     "iopub.status.busy": "2024-07-09T11:39:12.127895Z",
     "iopub.status.idle": "2024-07-09T11:39:12.133459Z",
     "shell.execute_reply": "2024-07-09T11:39:12.132093Z"
    },
    "papermill": {
     "duration": 0.036415,
     "end_time": "2024-07-09T11:39:12.136380",
     "exception": false,
     "start_time": "2024-07-09T11:39:12.099965",
     "status": "completed"
    },
    "tags": []
   },
   "outputs": [],
   "source": [
    "drop_cols_categorical.append(\"Utilities\")"
   ]
  },
  {
   "cell_type": "markdown",
   "id": "f3ca885c",
   "metadata": {
    "papermill": {
     "duration": 0.026805,
     "end_time": "2024-07-09T11:39:12.190121",
     "exception": false,
     "start_time": "2024-07-09T11:39:12.163316",
     "status": "completed"
    },
    "tags": []
   },
   "source": [
    "### Neighborhood\n",
    "\n",
    "There are several categories which are evenly distributed with a large number of rows per category, and the boxplots do seem to show that there's potentially some importance to neighborhood, e.g. NoRidge sale prices are always higher than IDOTRR. I've also always heard in real life that location is one of the 2 big factors in determining house price (location and square footage), so I think this is a feature worth keeping.\n",
    "\n",
    "Realistically, it would be better to use forward selection or backward elimination to decide whether to keep this feature (rather than my intuition), but since that's not an option here, I'll just keep the column.\n",
    "\n",
    "There are too many neighborhoods to one-hot-encode though, and there's no natural order to them, so we can't ordinal encode. This would require K-fold target encoding.\n",
    "\n",
    "**Target encoding** is when we take the average sale price for each category (e.g. the average sale price for all rows where Neighborhood = CollgCr) and set the Neighborhood in those rows to that value. However, this comes with the massive issue of **data leakage**, where we use the target values to determine the input values, which leads to overfitting and poor generalization when trying to predict new data.\n",
    "\n",
    "To get around this, we use **K-fold target encoding**, where we split the data into K groups, hopefully with an even distribution of the feature (i.e. each fold hopefully contains a distribution of the feature values that's similar to the distribution in the whole dataset, which can be hard if some of the possible values only appear a few times in the whole dataset). \n",
    "\n",
    "For each fold, we use all the *other* folds to target-encode the values. E.g. if we have 5 folds, then for Fold 1, we average the saleprice of the CollgCr neighborhood rows in Folds 2-5 to get the number we should imput CollgCr to in Fold 1. This means each fold will have a different imputed value for the CollgCr neighborhood.\n",
    "\n",
    "Thus, for each row, we are safe from using the label value for that row to calculate that row's encoded value, mitigating the impact of data leakage."
   ]
  },
  {
   "cell_type": "code",
   "execution_count": 26,
   "id": "a03da272",
   "metadata": {
    "execution": {
     "iopub.execute_input": "2024-07-09T11:39:12.245697Z",
     "iopub.status.busy": "2024-07-09T11:39:12.245303Z",
     "iopub.status.idle": "2024-07-09T11:39:13.000138Z",
     "shell.execute_reply": "2024-07-09T11:39:12.998830Z"
    },
    "papermill": {
     "duration": 0.786279,
     "end_time": "2024-07-09T11:39:13.002968",
     "exception": false,
     "start_time": "2024-07-09T11:39:12.216689",
     "status": "completed"
    },
    "tags": []
   },
   "outputs": [
    {
     "data": {
      "image/png": "[encoded data removed]",
      "text/plain": [
       "<Figure size 750x350 with 1 Axes>"
      ]
     },
     "metadata": {},
     "output_type": "display_data"
    }
   ],
   "source": [
    "make_boxplots_of_categorical_data(train_df, \"Neighborhood\")"
   ]
  },
  {
   "cell_type": "code",
   "execution_count": 27,
   "id": "e9c527ae",
   "metadata": {
    "execution": {
     "iopub.execute_input": "2024-07-09T11:39:13.060672Z",
     "iopub.status.busy": "2024-07-09T11:39:13.060197Z",
     "iopub.status.idle": "2024-07-09T11:39:13.071555Z",
     "shell.execute_reply": "2024-07-09T11:39:13.070113Z"
    },
    "papermill": {
     "duration": 0.043297,
     "end_time": "2024-07-09T11:39:13.074276",
     "exception": false,
     "start_time": "2024-07-09T11:39:13.030979",
     "status": "completed"
    },
    "tags": []
   },
   "outputs": [
    {
     "data": {
      "text/plain": [
       "Neighborhood\n",
       "NAmes      225\n",
       "CollgCr    150\n",
       "OldTown    113\n",
       "Edwards    100\n",
       "Somerst     86\n",
       "Gilbert     79\n",
       "NridgHt     77\n",
       "Sawyer      74\n",
       "NWAmes      73\n",
       "SawyerW     59\n",
       "BrkSide     58\n",
       "Crawfor     51\n",
       "Mitchel     49\n",
       "NoRidge     41\n",
       "Timber      38\n",
       "IDOTRR      37\n",
       "ClearCr     28\n",
       "StoneBr     25\n",
       "SWISU       25\n",
       "MeadowV     17\n",
       "Blmngtn     17\n",
       "BrDale      16\n",
       "Veenker     11\n",
       "NPkVill      9\n",
       "Blueste      2\n",
       "Name: count, dtype: int64"
      ]
     },
     "execution_count": 27,
     "metadata": {},
     "output_type": "execute_result"
    }
   ],
   "source": [
    "train_df[\"Neighborhood\"].value_counts()"
   ]
  },
  {
   "cell_type": "code",
   "execution_count": 28,
   "id": "dd4fc243",
   "metadata": {
    "execution": {
     "iopub.execute_input": "2024-07-09T11:39:13.133200Z",
     "iopub.status.busy": "2024-07-09T11:39:13.132103Z",
     "iopub.status.idle": "2024-07-09T11:39:13.217785Z",
     "shell.execute_reply": "2024-07-09T11:39:13.215511Z"
    },
    "papermill": {
     "duration": 0.117893,
     "end_time": "2024-07-09T11:39:13.220379",
     "exception": false,
     "start_time": "2024-07-09T11:39:13.102486",
     "status": "completed"
    },
    "tags": []
   },
   "outputs": [
    {
     "name": "stderr",
     "output_type": "stream",
     "text": [
      "/opt/conda/lib/python3.10/site-packages/sklearn/model_selection/_split.py:700: UserWarning: The least populated class in y has only 1 members, which is less than n_splits=5.\n",
      "  warnings.warn(\n"
     ]
    },
    {
     "data": {
      "text/html": [
       "<div>\n",
       "<style scoped>\n",
       "    .dataframe tbody tr th:only-of-type {\n",
       "        vertical-align: middle;\n",
       "    }\n",
       "\n",
       "    .dataframe tbody tr th {\n",
       "        vertical-align: top;\n",
       "    }\n",
       "\n",
       "    .dataframe thead th {\n",
       "        text-align: right;\n",
       "    }\n",
       "</style>\n",
       "<table border=\"1\" class=\"dataframe\">\n",
       "  <thead>\n",
       "    <tr style=\"text-align: right;\">\n",
       "      <th></th>\n",
       "      <th>Id</th>\n",
       "      <th>MSSubClass</th>\n",
       "      <th>MSZoning</th>\n",
       "      <th>LotFrontage</th>\n",
       "      <th>LotArea</th>\n",
       "      <th>Street</th>\n",
       "      <th>Alley</th>\n",
       "      <th>LotShape</th>\n",
       "      <th>LandContour</th>\n",
       "      <th>Utilities</th>\n",
       "      <th>...</th>\n",
       "      <th>PoolQC</th>\n",
       "      <th>Fence</th>\n",
       "      <th>MiscFeature</th>\n",
       "      <th>MiscVal</th>\n",
       "      <th>MoSold</th>\n",
       "      <th>YrSold</th>\n",
       "      <th>SaleType</th>\n",
       "      <th>SaleCondition</th>\n",
       "      <th>SalePrice</th>\n",
       "      <th>Neighborhood_Encoded</th>\n",
       "    </tr>\n",
       "  </thead>\n",
       "  <tbody>\n",
       "    <tr>\n",
       "      <th>0</th>\n",
       "      <td>1</td>\n",
       "      <td>60</td>\n",
       "      <td>RL</td>\n",
       "      <td>65.0</td>\n",
       "      <td>8450</td>\n",
       "      <td>Pave</td>\n",
       "      <td>NoAlley</td>\n",
       "      <td>0.000000</td>\n",
       "      <td>Lvl</td>\n",
       "      <td>AllPub</td>\n",
       "      <td>...</td>\n",
       "      <td>NoPool</td>\n",
       "      <td>NoFence</td>\n",
       "      <td>NoMiscFeatures</td>\n",
       "      <td>0</td>\n",
       "      <td>2</td>\n",
       "      <td>2008</td>\n",
       "      <td>WD</td>\n",
       "      <td>Normal</td>\n",
       "      <td>208500</td>\n",
       "      <td>198337.691057</td>\n",
       "    </tr>\n",
       "    <tr>\n",
       "      <th>1</th>\n",
       "      <td>2</td>\n",
       "      <td>20</td>\n",
       "      <td>RL</td>\n",
       "      <td>80.0</td>\n",
       "      <td>9600</td>\n",
       "      <td>Pave</td>\n",
       "      <td>NoAlley</td>\n",
       "      <td>0.000000</td>\n",
       "      <td>Lvl</td>\n",
       "      <td>AllPub</td>\n",
       "      <td>...</td>\n",
       "      <td>NoPool</td>\n",
       "      <td>NoFence</td>\n",
       "      <td>NoMiscFeatures</td>\n",
       "      <td>0</td>\n",
       "      <td>5</td>\n",
       "      <td>2007</td>\n",
       "      <td>WD</td>\n",
       "      <td>Normal</td>\n",
       "      <td>181500</td>\n",
       "      <td>261625.000000</td>\n",
       "    </tr>\n",
       "    <tr>\n",
       "      <th>2</th>\n",
       "      <td>3</td>\n",
       "      <td>60</td>\n",
       "      <td>RL</td>\n",
       "      <td>68.0</td>\n",
       "      <td>11250</td>\n",
       "      <td>Pave</td>\n",
       "      <td>NoAlley</td>\n",
       "      <td>0.333333</td>\n",
       "      <td>Lvl</td>\n",
       "      <td>AllPub</td>\n",
       "      <td>...</td>\n",
       "      <td>NoPool</td>\n",
       "      <td>NoFence</td>\n",
       "      <td>NoMiscFeatures</td>\n",
       "      <td>0</td>\n",
       "      <td>9</td>\n",
       "      <td>2008</td>\n",
       "      <td>WD</td>\n",
       "      <td>Normal</td>\n",
       "      <td>223500</td>\n",
       "      <td>199837.434426</td>\n",
       "    </tr>\n",
       "    <tr>\n",
       "      <th>3</th>\n",
       "      <td>4</td>\n",
       "      <td>70</td>\n",
       "      <td>RL</td>\n",
       "      <td>60.0</td>\n",
       "      <td>9550</td>\n",
       "      <td>Pave</td>\n",
       "      <td>NoAlley</td>\n",
       "      <td>0.333333</td>\n",
       "      <td>Lvl</td>\n",
       "      <td>AllPub</td>\n",
       "      <td>...</td>\n",
       "      <td>NoPool</td>\n",
       "      <td>NoFence</td>\n",
       "      <td>NoMiscFeatures</td>\n",
       "      <td>0</td>\n",
       "      <td>2</td>\n",
       "      <td>2006</td>\n",
       "      <td>WD</td>\n",
       "      <td>Abnorml</td>\n",
       "      <td>140000</td>\n",
       "      <td>209726.829787</td>\n",
       "    </tr>\n",
       "    <tr>\n",
       "      <th>4</th>\n",
       "      <td>5</td>\n",
       "      <td>60</td>\n",
       "      <td>RL</td>\n",
       "      <td>84.0</td>\n",
       "      <td>14260</td>\n",
       "      <td>Pave</td>\n",
       "      <td>NoAlley</td>\n",
       "      <td>0.333333</td>\n",
       "      <td>Lvl</td>\n",
       "      <td>AllPub</td>\n",
       "      <td>...</td>\n",
       "      <td>NoPool</td>\n",
       "      <td>NoFence</td>\n",
       "      <td>NoMiscFeatures</td>\n",
       "      <td>0</td>\n",
       "      <td>12</td>\n",
       "      <td>2008</td>\n",
       "      <td>WD</td>\n",
       "      <td>Normal</td>\n",
       "      <td>250000</td>\n",
       "      <td>345414.941176</td>\n",
       "    </tr>\n",
       "  </tbody>\n",
       "</table>\n",
       "<p>5 rows × 81 columns</p>\n",
       "</div>"
      ],
      "text/plain": [
       "   Id  MSSubClass MSZoning  LotFrontage  LotArea Street    Alley  LotShape  \\\n",
       "0   1          60       RL         65.0     8450   Pave  NoAlley  0.000000   \n",
       "1   2          20       RL         80.0     9600   Pave  NoAlley  0.000000   \n",
       "2   3          60       RL         68.0    11250   Pave  NoAlley  0.333333   \n",
       "3   4          70       RL         60.0     9550   Pave  NoAlley  0.333333   \n",
       "4   5          60       RL         84.0    14260   Pave  NoAlley  0.333333   \n",
       "\n",
       "  LandContour Utilities  ...  PoolQC    Fence     MiscFeature MiscVal MoSold  \\\n",
       "0         Lvl    AllPub  ...  NoPool  NoFence  NoMiscFeatures       0      2   \n",
       "1         Lvl    AllPub  ...  NoPool  NoFence  NoMiscFeatures       0      5   \n",
       "2         Lvl    AllPub  ...  NoPool  NoFence  NoMiscFeatures       0      9   \n",
       "3         Lvl    AllPub  ...  NoPool  NoFence  NoMiscFeatures       0      2   \n",
       "4         Lvl    AllPub  ...  NoPool  NoFence  NoMiscFeatures       0     12   \n",
       "\n",
       "  YrSold  SaleType  SaleCondition  SalePrice  Neighborhood_Encoded  \n",
       "0   2008        WD         Normal     208500         198337.691057  \n",
       "1   2007        WD         Normal     181500         261625.000000  \n",
       "2   2008        WD         Normal     223500         199837.434426  \n",
       "3   2006        WD        Abnorml     140000         209726.829787  \n",
       "4   2008        WD         Normal     250000         345414.941176  \n",
       "\n",
       "[5 rows x 81 columns]"
      ]
     },
     "execution_count": 28,
     "metadata": {},
     "output_type": "execute_result"
    }
   ],
   "source": [
    "# sklearn has the StratifiedKFold method, which tries to ensure that the K-folds have an\n",
    "# even distribution of categories that matches the overall distribution.\n",
    "\n",
    "# We also create the test encodings so we can encode the test dataset.\n",
    "train_df, neighborhood_test_encodings = k_fold_target_encoding(train_df, \"Neighborhood\", num_splits=5, label_name=\"SalePrice\")\n",
    "train_df.head()"
   ]
  },
  {
   "cell_type": "markdown",
   "id": "8de6bcfd",
   "metadata": {
    "papermill": {
     "duration": 0.028223,
     "end_time": "2024-07-09T11:39:13.276963",
     "exception": false,
     "start_time": "2024-07-09T11:39:13.248740",
     "status": "completed"
    },
    "tags": []
   },
   "source": [
    "Many of the other categorical columns did not look useful, whether due to a poor distribution of categories or the boxplots for each possible category looking very similar, so I'm dropping those. Some are useful (e.g. \"CentralAir\" [having air conditioning] increases the sale price quite a bit, which is expected), so those I'll be one-hot-encoding, ordinal-encoding, or K-fold encoding as appropriate.\n",
    "\n",
    "We also still need to do something about the NaN values in the columns which we didn't drop. For Electrical, there is just 1 NaN value, so I decided to set it to the mode of the column, SBrkr, which is also considered the standard system according to the data description. The Electrical column is also interesting because there's a semi-grade to it, although not completely clear:\n",
    "\n",
    "       SBrkr\tStandard Circuit Breakers & Romex\n",
    "       FuseA\tFuse Box over 60 AMP and all Romex wiring (Average)\t\n",
    "       FuseF\t60 AMP Fuse Box and mostly Romex wiring (Fair)\n",
    "       FuseP\t60 AMP Fuse Box and mostly knob & tube wiring (poor)\n",
    "       Mix\tMixed\n",
    "       \n",
    "Because of this, I'd rather K-fold target encode or one-hot encode than ordinal encode this column, since I'm not sure what number I'd assign Mix if I had to ordinal encoding it."
   ]
  },
  {
   "cell_type": "code",
   "execution_count": 29,
   "id": "d34516bf",
   "metadata": {
    "execution": {
     "iopub.execute_input": "2024-07-09T11:39:13.337201Z",
     "iopub.status.busy": "2024-07-09T11:39:13.336770Z",
     "iopub.status.idle": "2024-07-09T11:39:13.348779Z",
     "shell.execute_reply": "2024-07-09T11:39:13.347289Z"
    },
    "papermill": {
     "duration": 0.045406,
     "end_time": "2024-07-09T11:39:13.351520",
     "exception": false,
     "start_time": "2024-07-09T11:39:13.306114",
     "status": "completed"
    },
    "tags": []
   },
   "outputs": [],
   "source": [
    "train_df.loc[train_df[\"Electrical\"].isna(), \"Electrical\"] = \"SBrkr\"\n",
    "# we set the missing BsmtExposure values to the average category since the basement does exist\n",
    "train_df.loc[train_df[\"BsmtExposure\"].isna(), \"BsmtExposure\"] = \"Av\"\n",
    "\n",
    "# Dropping columns that don't have much distribution of values, or with little visible relation to the SalePrice\n",
    "drop_cols_categorical = drop_cols_categorical + [\"MasVnrType\", \"GarageCond\", \"MiscFeature\",\n",
    "                                                 \"Functional\", \"GarageType\", \"BsmtFinType2\",\n",
    "                                                 \"Exterior2nd\", \"Fence\", \"Alley\", \"LandContour\",\n",
    "                                                 \"LotConfig\", \"LandSlope\", \"Condition1\",\n",
    "                                                 \"Condition2\", \"BldgType\", \"HouseStyle\", \"RoofStyle\"]\n",
    "train_df = train_df.drop(columns=drop_cols_categorical)"
   ]
  },
  {
   "cell_type": "code",
   "execution_count": 30,
   "id": "cee6f235",
   "metadata": {
    "execution": {
     "iopub.execute_input": "2024-07-09T11:39:13.410969Z",
     "iopub.status.busy": "2024-07-09T11:39:13.410543Z",
     "iopub.status.idle": "2024-07-09T11:39:13.458465Z",
     "shell.execute_reply": "2024-07-09T11:39:13.457426Z"
    },
    "papermill": {
     "duration": 0.081793,
     "end_time": "2024-07-09T11:39:13.461380",
     "exception": false,
     "start_time": "2024-07-09T11:39:13.379587",
     "status": "completed"
    },
    "tags": []
   },
   "outputs": [],
   "source": [
    "# Ordinal encoding\n",
    "train_df[\"GarageFinish\"] = train_df[\"GarageFinish\"].replace({\"NoGarage\": 0, \"Unf\": 1/3, \"RFn\": 2/3, \"Fin\": 1}).astype(float)\n",
    "train_df[\"BsmtExposure\"] = train_df[\"BsmtExposure\"].replace({\"Gd\": 1, \"Av\": 3/4, \"Mn\": 1/2, \"No\": 1/4, \"NoBasement\": 0}).astype(float)\n",
    "train_df[\"BsmtFinType1\"] = train_df[\"BsmtFinType1\"].replace({\"GLQ\": 1, \"ALQ\": 5/6, \"BLQ\": 2/3, \"Rec\": 3/6, \"LwQ\": 2/6, \"Unf\": 1/6, \"NoBasement\": 0}).astype(float)\n",
    "train_df[[\"CentralAir\", \"PavedDrive\"]] = train_df[[\"CentralAir\", \"PavedDrive\"]].replace({\"Y\": 1, \"P\": 0.5, \"N\": 0}).astype(float)\n",
    "\n",
    "encoding_cols = [\"KitchenQual\", \"BsmtQual\", \"BsmtCond\", \"FireplaceQu\", \"ExterCond\", \"ExterQual\", \"GarageQual\", \"PoolQC\", \"HeatingQC\"]\n",
    "train_df[encoding_cols] = train_df[encoding_cols].replace({\"NoBasement\": 0, \"NoFireplace\": 0, \"NoGarage\": 0, \"NoPool\": 0, \"PO\": 1/5, \"Po\": 1/5, \"Fa\": 2/5, \"TA\": 3/5, \"Gd\": 4/5, \"Ex\": 1}).astype(float)"
   ]
  },
  {
   "cell_type": "code",
   "execution_count": 31,
   "id": "bed5c029",
   "metadata": {
    "execution": {
     "iopub.execute_input": "2024-07-09T11:39:13.519997Z",
     "iopub.status.busy": "2024-07-09T11:39:13.519542Z",
     "iopub.status.idle": "2024-07-09T11:39:13.539988Z",
     "shell.execute_reply": "2024-07-09T11:39:13.539000Z"
    },
    "papermill": {
     "duration": 0.052942,
     "end_time": "2024-07-09T11:39:13.542855",
     "exception": false,
     "start_time": "2024-07-09T11:39:13.489913",
     "status": "completed"
    },
    "tags": []
   },
   "outputs": [],
   "source": [
    "# One-hot encoding\n",
    "train_df, encoding_Heating = one_hot_encoding(train_df, \"Heating\", pd.Int8Dtype())\n",
    "train_df, encoding_MSZoning = one_hot_encoding(train_df, \"MSZoning\", pd.Int8Dtype())"
   ]
  },
  {
   "cell_type": "code",
   "execution_count": 32,
   "id": "64681422",
   "metadata": {
    "execution": {
     "iopub.execute_input": "2024-07-09T11:39:13.601876Z",
     "iopub.status.busy": "2024-07-09T11:39:13.601496Z",
     "iopub.status.idle": "2024-07-09T11:39:13.850171Z",
     "shell.execute_reply": "2024-07-09T11:39:13.849111Z"
    },
    "papermill": {
     "duration": 0.281892,
     "end_time": "2024-07-09T11:39:13.853052",
     "exception": false,
     "start_time": "2024-07-09T11:39:13.571160",
     "status": "completed"
    },
    "tags": []
   },
   "outputs": [
    {
     "name": "stderr",
     "output_type": "stream",
     "text": [
      "/opt/conda/lib/python3.10/site-packages/sklearn/model_selection/_split.py:700: UserWarning: The least populated class in y has only 1 members, which is less than n_splits=5.\n",
      "  warnings.warn(\n",
      "/opt/conda/lib/python3.10/site-packages/sklearn/model_selection/_split.py:700: UserWarning: The least populated class in y has only 1 members, which is less than n_splits=5.\n",
      "  warnings.warn(\n",
      "/opt/conda/lib/python3.10/site-packages/sklearn/model_selection/_split.py:700: UserWarning: The least populated class in y has only 1 members, which is less than n_splits=5.\n",
      "  warnings.warn(\n",
      "/opt/conda/lib/python3.10/site-packages/sklearn/model_selection/_split.py:700: UserWarning: The least populated class in y has only 1 members, which is less than n_splits=5.\n",
      "  warnings.warn(\n",
      "/opt/conda/lib/python3.10/site-packages/sklearn/model_selection/_split.py:700: UserWarning: The least populated class in y has only 1 members, which is less than n_splits=5.\n",
      "  warnings.warn(\n",
      "/opt/conda/lib/python3.10/site-packages/sklearn/model_selection/_split.py:700: UserWarning: The least populated class in y has only 1 members, which is less than n_splits=5.\n",
      "  warnings.warn(\n"
     ]
    }
   ],
   "source": [
    "# K-fold encoding\n",
    "k_fold_test_encodings = dict()\n",
    "for column_name in [\"Electrical\", \"Foundation\", \"RoofMatl\", \"Exterior1st\", \"SaleType\", \"SaleCondition\"]:\n",
    "    train_df, test_encodings = k_fold_target_encoding(train_df, column_name, num_splits=5, label_name=\"SalePrice\")\n",
    "    k_fold_test_encodings[column_name] = test_encodings\n",
    "k_fold_test_encodings[\"Neighborhood\"] = neighborhood_test_encodings"
   ]
  },
  {
   "cell_type": "markdown",
   "id": "64e16992",
   "metadata": {
    "papermill": {
     "duration": 0.0276,
     "end_time": "2024-07-09T11:39:13.908933",
     "exception": false,
     "start_time": "2024-07-09T11:39:13.881333",
     "status": "completed"
    },
    "tags": []
   },
   "source": [
    "# **Feature Utility Matrix**\n",
    "\n",
    "At this point, all columns in train_df are numerical. If we had a very small number of features, this could be a nice time to stop and look at how correlated each feature is to the label. However, we have too many columns for that, so instead, we'll just go straight for a **feature utility metric** which gives us the correlation between each feature and the label. The reason we don't take the $R^2$ between each feature and the label column is because $R^2$ assumes a linear relationship, which isn't always true.\n",
    "\n",
    "Note that this feature utility metric will include the categorical columns we one-hot encoded, which will probably end up looking rather funny due to only being 0 or 1.\n",
    "\n",
    "We also need to quickly fill in the NaNs we still have in the numerical columns, in LotFrontage and GarageYrBlt. We'll just be using the median for both of those, to avoid extremely large lot frontage values or very old garages skewing the average. In some cases, it makes more sense to use the mode (e.g. if the allowed values are only 0 or 1, like for our one-hot encoded columns), but it depends on the data."
   ]
  },
  {
   "cell_type": "code",
   "execution_count": 33,
   "id": "10479dbf",
   "metadata": {
    "execution": {
     "iopub.execute_input": "2024-07-09T11:39:13.966812Z",
     "iopub.status.busy": "2024-07-09T11:39:13.966427Z",
     "iopub.status.idle": "2024-07-09T11:39:13.976666Z",
     "shell.execute_reply": "2024-07-09T11:39:13.975210Z"
    },
    "papermill": {
     "duration": 0.042716,
     "end_time": "2024-07-09T11:39:13.979633",
     "exception": false,
     "start_time": "2024-07-09T11:39:13.936917",
     "status": "completed"
    },
    "tags": []
   },
   "outputs": [],
   "source": [
    "train_df.loc[train_df[\"LotFrontage\"].isna(), \"LotFrontage\"] = train_df[\"LotFrontage\"].median()\n",
    "train_df.loc[train_df[\"GarageYrBlt\"].isna(), \"GarageYrBlt\"] = train_df[\"GarageYrBlt\"].median()"
   ]
  },
  {
   "cell_type": "code",
   "execution_count": 34,
   "id": "fd0532fd",
   "metadata": {
    "execution": {
     "iopub.execute_input": "2024-07-09T11:39:14.040188Z",
     "iopub.status.busy": "2024-07-09T11:39:14.039786Z",
     "iopub.status.idle": "2024-07-09T11:39:14.758596Z",
     "shell.execute_reply": "2024-07-09T11:39:14.757321Z"
    },
    "papermill": {
     "duration": 0.751866,
     "end_time": "2024-07-09T11:39:14.761675",
     "exception": false,
     "start_time": "2024-07-09T11:39:14.009809",
     "status": "completed"
    },
    "tags": []
   },
   "outputs": [
    {
     "data": {
      "text/plain": [
       "OverallQual              0.552368\n",
       "GrLivArea                0.482283\n",
       "Neighborhood_Encoded     0.462774\n",
       "YearBuilt                0.370668\n",
       "TotalBsmtSF              0.368939\n",
       "GarageArea               0.359869\n",
       "GarageCars               0.355654\n",
       "KitchenQual              0.336579\n",
       "ExterQual                0.322973\n",
       "BsmtQual                 0.318403\n",
       "1stFlrSF                 0.310912\n",
       "GarageYrBlt              0.303389\n",
       "MSSubClass               0.274041\n",
       "GarageFinish             0.268084\n",
       "FullBath                 0.262283\n",
       "YearRemodAdd             0.240246\n",
       "LotFrontage              0.222443\n",
       "TotRmsAbvGrd             0.209365\n",
       "FireplaceQu              0.209196\n",
       "2ndFlrSF                 0.202362\n",
       "HeatingQC                0.184605\n",
       "Fireplaces               0.164576\n",
       "LotArea                  0.160661\n",
       "BsmtFinType1             0.147688\n",
       "BsmtFinSF1               0.143307\n",
       "OpenPorchSF              0.141125\n",
       "Exterior1st_Encoded      0.127642\n",
       "OverallCond              0.121860\n",
       "BsmtUnfSF                0.120365\n",
       "Foundation_Encoded       0.119435\n",
       "WoodDeckSF               0.111304\n",
       "HalfBath                 0.092792\n",
       "BsmtExposure             0.091822\n",
       "MasVnrArea               0.079518\n",
       "GarageQual               0.076297\n",
       "MSZoning_RM              0.072396\n",
       "CentralAir               0.065700\n",
       "BedroomAbvGr             0.060597\n",
       "BsmtCond                 0.054951\n",
       "MSZoning_RL              0.050965\n",
       "Heating_GasA             0.043386\n",
       "MSZoning_FV              0.034845\n",
       "PavedDrive               0.030202\n",
       "ExterCond                0.026783\n",
       "EnclosedPorch            0.026684\n",
       "ScreenPorch              0.026608\n",
       "Heating_Wall             0.020555\n",
       "BsmtFullBath             0.017548\n",
       "KitchenAbvGr             0.016773\n",
       "MSZoning_C (all)         0.013069\n",
       "LowQualFinSF             0.011589\n",
       "BsmtHalfBath             0.009209\n",
       "3SsnPorch                0.003206\n",
       "MSZoning_RH              0.001743\n",
       "Heating_GasW             0.001027\n",
       "Heating_OthW             0.000960\n",
       "Heating_Grav             0.000245\n",
       "Electrical_Encoded       0.000000\n",
       "RoofMatl_Encoded         0.000000\n",
       "SaleType_Encoded         0.000000\n",
       "Id                       0.000000\n",
       "Heating_Floor            0.000000\n",
       "YrSold                   0.000000\n",
       "MoSold                   0.000000\n",
       "MiscVal                  0.000000\n",
       "PoolQC                   0.000000\n",
       "PoolArea                 0.000000\n",
       "BsmtFinSF2               0.000000\n",
       "SaleCondition_Encoded    0.000000\n",
       "Name: MI Scores, dtype: float64"
      ]
     },
     "execution_count": 34,
     "metadata": {},
     "output_type": "execute_result"
    }
   ],
   "source": [
    "def make_mi_scores(train_df: pd.DataFrame, label_column: str) -> pd.Series:\n",
    "    \"\"\"\n",
    "    This function calculates the mutual information scores between the features (must be numerical!) and the label column.\n",
    "    param train_df: The training data including the label column\n",
    "    param label_column: The column we're predicting. Must be numerical to use mutual_info_regression\n",
    "    return mi_scores: A series with features as indices indicating the mutual information between the feature and the label column\n",
    "    \"\"\"\n",
    "    X = train_df.drop(columns=[label_column])\n",
    "    \n",
    "    mi_scores = mutual_info_regression(X, train_df[label_column])\n",
    "    mi_scores = pd.Series(mi_scores, name=\"MI Scores\", index=X.columns)\n",
    "    mi_scores = mi_scores.sort_values(ascending=False)\n",
    "    \n",
    "    return mi_scores\n",
    "\n",
    "mi_scores = make_mi_scores(train_df, \"SalePrice\")\n",
    "mi_scores"
   ]
  },
  {
   "cell_type": "markdown",
   "id": "d199e623",
   "metadata": {
    "papermill": {
     "duration": 0.030202,
     "end_time": "2024-07-09T11:39:14.821202",
     "exception": false,
     "start_time": "2024-07-09T11:39:14.791000",
     "status": "completed"
    },
    "tags": []
   },
   "source": [
    "We've got a lot of features which have an MI of 0, meaning they tell us nothing about the SalePrice. Let's take out everything with a metric below 0.15 (this is a completely arbitrary cutoff, by the way), but make sure the one-hot encoded columns don't get thrown out."
   ]
  },
  {
   "cell_type": "code",
   "execution_count": 35,
   "id": "466238b3",
   "metadata": {
    "execution": {
     "iopub.execute_input": "2024-07-09T11:39:14.883425Z",
     "iopub.status.busy": "2024-07-09T11:39:14.882984Z",
     "iopub.status.idle": "2024-07-09T11:39:14.891618Z",
     "shell.execute_reply": "2024-07-09T11:39:14.890071Z"
    },
    "papermill": {
     "duration": 0.042488,
     "end_time": "2024-07-09T11:39:14.894356",
     "exception": false,
     "start_time": "2024-07-09T11:39:14.851868",
     "status": "completed"
    },
    "tags": []
   },
   "outputs": [],
   "source": [
    "feature_utility_columns_to_keep = list(set(mi_scores[mi_scores > 0.15].index.tolist() + encoding_Heating + encoding_MSZoning))\n",
    "train_df = train_df[feature_utility_columns_to_keep + [\"SalePrice\"]]"
   ]
  },
  {
   "cell_type": "markdown",
   "id": "7b4be52d",
   "metadata": {
    "papermill": {
     "duration": 0.031527,
     "end_time": "2024-07-09T11:39:14.955497",
     "exception": false,
     "start_time": "2024-07-09T11:39:14.923970",
     "status": "completed"
    },
    "tags": []
   },
   "source": [
    "# **Checking for Multicollinearity**\n",
    "\n",
    "One last thing worth checking is that all our variables are truly independent of one another. Judging by just the names alone, this is probably not the case, e.g. OverallQual and OverallCond refer to the property quality and condition respectively. Personally, I have no idea how these would differ, so let's check for multicollinearity and then see if we can get rid of the highly collinear columns.\n",
    "\n",
    "The reasons for this are twofold:\n",
    "\n",
    "1. Reducing the dimensionality of data. In cases where we're dealing with high velocity big data, it's very important to keep memory costs in mind, and reducing the dimensionality of data makes memory costs more manageable. It also makes compute costs more manageable, which is why CNNs usually downsample images to a smaller number of pixels, because images are expensive both computationally and memory-wise.\n",
    "\n",
    "2. Dealing with **multicollinearity** or non-independent variables. Variables are independent if they aren't influenced by each other. Multicollinearity is when our independent variables are very strongly correlated. In statistics, we generally assume variables to be independent of one another and that one variable can be changed without directly influencing the others, and machine learning is no different. Columns which seem to be very closely related (like the OverallQual and OverallCond mentioned earlier) are most likely not independent. Multicollinearity reduces the performance and explainability of machine learning models because we can't isolate the effects of changing one feature alone, so the coefficients for that feature may not be accurate.\n",
    "\n",
    "A popular way to look for multicollinearity is to use the **variance inflation factor (VIF)**. It uses the $R^{2}$ metric, which assesses how much of the change in one variable is explained by change in the other variable. If two variables are perfectly correlated, the $R^{2}$ will be 1, and if they're orthogonal, $R^{2}$ will be 0.\n",
    "\n",
    "VIF uses this to tell how much of the overall standard error of all other variables is explained by a single variable. A VIF of 0 indicates the variables are perfectly orthogonal, and higher values indicate more multicollinearity. Often, an upper cutoff of 5 is used to determine multicollinear variables. Let's implement the VIF below:"
   ]
  },
  {
   "cell_type": "code",
   "execution_count": 36,
   "id": "7f528958",
   "metadata": {
    "execution": {
     "iopub.execute_input": "2024-07-09T11:39:15.017272Z",
     "iopub.status.busy": "2024-07-09T11:39:15.016862Z",
     "iopub.status.idle": "2024-07-09T11:39:15.692602Z",
     "shell.execute_reply": "2024-07-09T11:39:15.691438Z"
    },
    "papermill": {
     "duration": 0.711604,
     "end_time": "2024-07-09T11:39:15.697249",
     "exception": false,
     "start_time": "2024-07-09T11:39:14.985645",
     "status": "completed"
    },
    "tags": []
   },
   "outputs": [
    {
     "name": "stderr",
     "output_type": "stream",
     "text": [
      "/opt/conda/lib/python3.10/site-packages/statsmodels/stats/outliers_influence.py:198: RuntimeWarning: divide by zero encountered in scalar divide\n",
      "  vif = 1. / (1. - r_squared_i)\n"
     ]
    },
    {
     "data": {
      "text/html": [
       "<div>\n",
       "<style scoped>\n",
       "    .dataframe tbody tr th:only-of-type {\n",
       "        vertical-align: middle;\n",
       "    }\n",
       "\n",
       "    .dataframe tbody tr th {\n",
       "        vertical-align: top;\n",
       "    }\n",
       "\n",
       "    .dataframe thead th {\n",
       "        text-align: right;\n",
       "    }\n",
       "</style>\n",
       "<table border=\"1\" class=\"dataframe\">\n",
       "  <thead>\n",
       "    <tr style=\"text-align: right;\">\n",
       "      <th></th>\n",
       "      <th>VIF</th>\n",
       "    </tr>\n",
       "  </thead>\n",
       "  <tbody>\n",
       "    <tr>\n",
       "      <th>GrLivArea</th>\n",
       "      <td>131.344878</td>\n",
       "    </tr>\n",
       "    <tr>\n",
       "      <th>1stFlrSF</th>\n",
       "      <td>75.145014</td>\n",
       "    </tr>\n",
       "    <tr>\n",
       "      <th>MSSubClass</th>\n",
       "      <td>1.491727</td>\n",
       "    </tr>\n",
       "    <tr>\n",
       "      <th>LotArea</th>\n",
       "      <td>1.262263</td>\n",
       "    </tr>\n",
       "    <tr>\n",
       "      <th>GarageArea</th>\n",
       "      <td>5.441044</td>\n",
       "    </tr>\n",
       "    <tr>\n",
       "      <th>MSZoning_RH</th>\n",
       "      <td>inf</td>\n",
       "    </tr>\n",
       "    <tr>\n",
       "      <th>Fireplaces</th>\n",
       "      <td>4.488231</td>\n",
       "    </tr>\n",
       "    <tr>\n",
       "      <th>Heating_GasW</th>\n",
       "      <td>inf</td>\n",
       "    </tr>\n",
       "    <tr>\n",
       "      <th>LotFrontage</th>\n",
       "      <td>1.547254</td>\n",
       "    </tr>\n",
       "    <tr>\n",
       "      <th>KitchenQual</th>\n",
       "      <td>2.657331</td>\n",
       "    </tr>\n",
       "    <tr>\n",
       "      <th>BsmtQual</th>\n",
       "      <td>3.020015</td>\n",
       "    </tr>\n",
       "    <tr>\n",
       "      <th>GarageCars</th>\n",
       "      <td>5.715101</td>\n",
       "    </tr>\n",
       "    <tr>\n",
       "      <th>2ndFlrSF</th>\n",
       "      <td>91.232921</td>\n",
       "    </tr>\n",
       "    <tr>\n",
       "      <th>Heating_Grav</th>\n",
       "      <td>inf</td>\n",
       "    </tr>\n",
       "    <tr>\n",
       "      <th>TotalBsmtSF</th>\n",
       "      <td>5.328005</td>\n",
       "    </tr>\n",
       "    <tr>\n",
       "      <th>TotRmsAbvGrd</th>\n",
       "      <td>3.559657</td>\n",
       "    </tr>\n",
       "    <tr>\n",
       "      <th>Neighborhood_Encoded</th>\n",
       "      <td>2.631915</td>\n",
       "    </tr>\n",
       "    <tr>\n",
       "      <th>GarageYrBlt</th>\n",
       "      <td>3.310765</td>\n",
       "    </tr>\n",
       "    <tr>\n",
       "      <th>YearRemodAdd</th>\n",
       "      <td>2.3836</td>\n",
       "    </tr>\n",
       "    <tr>\n",
       "      <th>MSZoning_RL</th>\n",
       "      <td>inf</td>\n",
       "    </tr>\n",
       "    <tr>\n",
       "      <th>Heating_GasA</th>\n",
       "      <td>inf</td>\n",
       "    </tr>\n",
       "    <tr>\n",
       "      <th>MSZoning_C (all)</th>\n",
       "      <td>inf</td>\n",
       "    </tr>\n",
       "    <tr>\n",
       "      <th>GarageFinish</th>\n",
       "      <td>2.041194</td>\n",
       "    </tr>\n",
       "    <tr>\n",
       "      <th>Heating_OthW</th>\n",
       "      <td>inf</td>\n",
       "    </tr>\n",
       "    <tr>\n",
       "      <th>OverallQual</th>\n",
       "      <td>3.809617</td>\n",
       "    </tr>\n",
       "    <tr>\n",
       "      <th>HeatingQC</th>\n",
       "      <td>1.694016</td>\n",
       "    </tr>\n",
       "    <tr>\n",
       "      <th>FireplaceQu</th>\n",
       "      <td>4.682438</td>\n",
       "    </tr>\n",
       "    <tr>\n",
       "      <th>Heating_Wall</th>\n",
       "      <td>inf</td>\n",
       "    </tr>\n",
       "    <tr>\n",
       "      <th>Heating_Floor</th>\n",
       "      <td>inf</td>\n",
       "    </tr>\n",
       "    <tr>\n",
       "      <th>MSZoning_FV</th>\n",
       "      <td>inf</td>\n",
       "    </tr>\n",
       "    <tr>\n",
       "      <th>ExterQual</th>\n",
       "      <td>3.155726</td>\n",
       "    </tr>\n",
       "    <tr>\n",
       "      <th>MSZoning_RM</th>\n",
       "      <td>inf</td>\n",
       "    </tr>\n",
       "    <tr>\n",
       "      <th>FullBath</th>\n",
       "      <td>2.352753</td>\n",
       "    </tr>\n",
       "    <tr>\n",
       "      <th>YearBuilt</th>\n",
       "      <td>4.555639</td>\n",
       "    </tr>\n",
       "  </tbody>\n",
       "</table>\n",
       "</div>"
      ],
      "text/plain": [
       "                             VIF\n",
       "GrLivArea             131.344878\n",
       "1stFlrSF               75.145014\n",
       "MSSubClass              1.491727\n",
       "LotArea                 1.262263\n",
       "GarageArea              5.441044\n",
       "MSZoning_RH                  inf\n",
       "Fireplaces              4.488231\n",
       "Heating_GasW                 inf\n",
       "LotFrontage             1.547254\n",
       "KitchenQual             2.657331\n",
       "BsmtQual                3.020015\n",
       "GarageCars              5.715101\n",
       "2ndFlrSF               91.232921\n",
       "Heating_Grav                 inf\n",
       "TotalBsmtSF             5.328005\n",
       "TotRmsAbvGrd            3.559657\n",
       "Neighborhood_Encoded    2.631915\n",
       "GarageYrBlt             3.310765\n",
       "YearRemodAdd              2.3836\n",
       "MSZoning_RL                  inf\n",
       "Heating_GasA                 inf\n",
       "MSZoning_C (all)             inf\n",
       "GarageFinish            2.041194\n",
       "Heating_OthW                 inf\n",
       "OverallQual             3.809617\n",
       "HeatingQC               1.694016\n",
       "FireplaceQu             4.682438\n",
       "Heating_Wall                 inf\n",
       "Heating_Floor                inf\n",
       "MSZoning_FV                  inf\n",
       "ExterQual               3.155726\n",
       "MSZoning_RM                  inf\n",
       "FullBath                2.352753\n",
       "YearBuilt               4.555639"
      ]
     },
     "execution_count": 36,
     "metadata": {},
     "output_type": "execute_result"
    }
   ],
   "source": [
    "from statsmodels.stats.outliers_influence import variance_inflation_factor \n",
    "\n",
    "# Remove the label\n",
    "true_train_df = train_df.drop(columns=[\"SalePrice\"]).astype(float).copy()\n",
    "  \n",
    "# VIF dataframe \n",
    "vif_data = pd.DataFrame(index=true_train_df.columns, columns=[\"VIF\"])\n",
    "  \n",
    "# calculating VIF for each feature \n",
    "for i in range(len(true_train_df.columns)):\n",
    "    vif_data.loc[true_train_df.columns[i], \"VIF\"] = variance_inflation_factor(true_train_df.values, i)\n",
    "    \n",
    "vif_data"
   ]
  },
  {
   "cell_type": "markdown",
   "id": "2315e7b9",
   "metadata": {
    "papermill": {
     "duration": 0.049758,
     "end_time": "2024-07-09T11:39:15.810170",
     "exception": false,
     "start_time": "2024-07-09T11:39:15.760412",
     "status": "completed"
    },
    "tags": []
   },
   "source": [
    "Note that the one-hot-encoded values show as inf because VIF assumes a distribution, and these columns aren't really distributions - they're just 1/0 to indicate yes/no flags. We'll ignore those columns. Any other columns with a VIF of > 5 will be removed. Let's see what we're left with:"
   ]
  },
  {
   "cell_type": "code",
   "execution_count": 37,
   "id": "fc64a8e9",
   "metadata": {
    "execution": {
     "iopub.execute_input": "2024-07-09T11:39:15.870359Z",
     "iopub.status.busy": "2024-07-09T11:39:15.869883Z",
     "iopub.status.idle": "2024-07-09T11:39:15.881615Z",
     "shell.execute_reply": "2024-07-09T11:39:15.880304Z"
    },
    "papermill": {
     "duration": 0.044852,
     "end_time": "2024-07-09T11:39:15.884175",
     "exception": false,
     "start_time": "2024-07-09T11:39:15.839323",
     "status": "completed"
    },
    "tags": []
   },
   "outputs": [
    {
     "data": {
      "text/plain": [
       "(1460, 29)"
      ]
     },
     "execution_count": 37,
     "metadata": {},
     "output_type": "execute_result"
    }
   ],
   "source": [
    "columns_to_keep = vif_data[(vif_data[\"VIF\"] == np.inf) | (vif_data[\"VIF\"] < 5)].index.values.tolist()\n",
    "train_df = train_df.loc[:, columns_to_keep + [\"SalePrice\"]]\n",
    "train_df.shape"
   ]
  },
  {
   "cell_type": "markdown",
   "id": "d8824deb",
   "metadata": {
    "papermill": {
     "duration": 0.029395,
     "end_time": "2024-07-09T11:39:15.942682",
     "exception": false,
     "start_time": "2024-07-09T11:39:15.913287",
     "status": "completed"
    },
    "tags": []
   },
   "source": [
    "Doing good! We started with ~80 features, and now we're down to 30. We've reduced the dimensionality a lot without sacrificing important information, which will help with compute and memory costs without hurting (and we're even helping!) model performance.\n",
    "\n",
    "# **Other Feature Engineering Concerns**\n",
    "\n",
    "I'd like to take a moment to talk about common concerns during data cleaning and feature engineering, and what I'd do differently next time around.\n",
    "\n",
    "## The Curse of Dimensionality\n",
    "\n",
    "The **curse of dimensionality** is about how you need to exponentially increase the number of samples in order to cover a certain proportion of $d$-dimensional space, and when you have too many dimensions compared to the number of samples, you end up with sparse data. Let's say you need n samples to cover x% of a 1D line that represents the dimension space of the features. If you now expand to 2 dimensions (2 features), you need $d^{2}$ samples to cover x%. Expand to 3 dimensions (3 features) and you need $d^{3}$. Basically, the number of samples you need to sufficiently and accurately map the dimension space and avoid sparse data increases exponentially with the number of dimensions.\n",
    "\n",
    "The big problem with this is if we haven't sufficiently mapped the dimension space for features, there's a chance that in future, we'll be asked to predict on a point which is somewhere else in the dimension space entirely that none of our samples come even close to, and our model just can't extrapolate that far out. That's why it's important for training data to run the full gamut of the possible combinations of features as much as possible. \n",
    "\n",
    "## Imbalanced Datasets\n",
    "\n",
    "A lack of ability to fully map the feature dimension space is related to why many algorithms struggle with **imbalanced datasets**. Imabalanced datasets are common in logistic regression problems like fraud detection, where the majority class (non-fraudulent transactions) will be a huge percentage of all data, while the minority class (fraudulent transactions) will be very small just because they don't happen often, but the whole point of the algorithm is to differentiate between the two classes.\n",
    "\n",
    "With the house prices dataset, it's possible that the very high-priced homes could be considered to make the dataset imbalanced, since the data given is not enough for our model to learn how to accurately predict those super high prices because we don't have a lot of samples to learn from in that range. With the dimensionality of our dataset (30 features now that we've removed a bunch) and comparatively low number of samples (1460 samples), it's very possible that the model will draw conclusions about high-priced homes based on dimensions/features which aren't actually that relevant and only look similar for these homes by coincidence.\n",
    "\n",
    "Dealing with imbalanced datasets can be done through undersampling and/or oversampling, and the names are rather self-explanatory. Undersampling involves removing data from the majority class. The methods for doing so can be more methodical than just randomly removing data. Some examples include:\n",
    "\n",
    "- Clustering: Find clusters of the majority class and remove data evenly from each cluster\n",
    "- Tomek Links: Find cases where a majority class sample and minority class sample are each others' closest neighbor. Remove the instance of the majority class (in the image below, this would be the blue circles in the red ovals)\n",
    "\n",
    "<img src=\"https://i.imgur.com/ItUxTNg.png\" width=\"200px\">\n",
    "\n",
    "This works when you have a lot of data, but we're already short on data, so I wouldn't do this here. Instead, I'd perhaps look at oversampling. This can either involve intentionally sampling more real-life data from the minority class, or artificially creating more samples from the minority class in a process called SMOTE (Synthetic Minority Oversampling Technique). Taking our example from above, we'd make synthetic samples of the minority class like so:\n",
    "\n",
    "<img src=\"https://i.imgur.com/HIeb5xC.png\" width=\"200px\">\n",
    "\n",
    "SMOTE is potentially something I'd do with the samples of the very highest-priced homes in this dataset if I were to do this competition again, especially if I find that the model doesn't predict well on homes with very high prices.\n",
    "\n",
    "## Principal Component Analysis\n",
    "\n",
    "Remember how I mentioned the curse of dimensionality? Well, with this dataset, we now have 48 features after removing a bunch of columns, and 1460 rows. To me, this is a very bad a great ratio of samples to dimensions. I'd prefer this ratio to be a good deal higher. I don't have a good number off the top of my head, but intuitively, I'd use this line of reasoning:\n",
    "\n",
    "- We need ~30 samples for a feature (assuming it's normally distributed) to follow the Central Limit Theorem and be sufficiently large. So that means 30 samples is the bare minimum we need to fill the dimension space for 1 dimensions. Even then, that is pitifully small for an ML dataset, but let's just go with it for now.\n",
    "- Our dataset has 48 features or dimensions. If we follow our previous reasoning that we need n^dimensions data points to map the dimension space properly, that means we need $30^{48}$ samples, which is ridiculous, and makes it very obvious that we have WAY too many features for the amount of data available.\n",
    "- One thing we could maybe have done is combine e.g. all basement-related variables into one, and same with all garage-related variables. This could reduce our number of features by maybe 5-10.\n",
    "- Based on the size of our training data (1460), we should have 2-3 dimensions as 1460 is between $30^{2}$ and $30^{3}$. Not the best reasoning, I know, but it's very clear that 48 features is silly for 1460 rows.\n",
    "\n",
    "Since we can't increase the size of the training data, we could potentially reduce the number of features even further by being a lot more aggressive with which columns we manually decide to throw out, but since that's tedious and annoying, we could also try **principal component analysis**, which aims to transform high-dimenion data into maybe 2-4 dimensions which focus on the most important features.\n",
    "\n",
    "It's a very elegant process which appeals to the part of me that loved the math modules in my physics degree. First, you plot all your samples in $d$-dimensional space ($d$ = number of features) and find the best fit line for all the data that goes through the origin. This is principal component 1 (PC1 for short). You find the **eigenvector** of PC1 (i.e. the unit vector which tells you how important each dimension/axis is to determining PC1, with the proportions of importance being the **loading scores**).\n",
    "\n",
    "You then find the next best fit line which goes through the origin AND is perpendicular to PC1 and find the eigenvector. PC3 is&mdash;you guessed it&mdash;the next best fit line going through the origin and perpendicular to PC1 and PC2. Keep going until you reach either d (the number of features) or n, the number of samples (if your number of samples is smaller than your number of dimensions, then you should probably fix that before anything else).\n",
    "\n",
    "For each PC, we project the data points onto the line (i.e. draw a line between the PC and the datapoint perpendicular to the PC) and take the distance between the projected point and the origin. Note that a perfect best fit line that goes through every point will have very big distances between the projected points and the origin, while a terrible best fit line (oxymoron if I ever heard one) would have the origin be a lot closer than the point itself.\n",
    "\n",
    "We now take the eigenvalues of the PCs, which equals the summed squared distances of the projected points to the origin, divided by (number of samples $-1$). This is the same as the sample variance formula, so we can calculate the total variation by summing the eigenvalues of all the PCs and then see what proportion of the total variation comes from each PC. We can make a **scree plot** of these percentages and see if we can just consider the first few PCs instead of all of them. E.g. if we have 48 PCs but the first two account for 96% of the total variation, we can just stick to considering PC1 and PC2, which cuts our many-dimensional data down to 2 dimensions. It's beautiful!\n",
    "\n",
    "I'm hoping that the machine learning algorithm I've chosen below will be able to assign meaning to all the different dimensions, but if it doesn't perform well, then if I redid this, I'd definitely consider doing PCA first; I'm still rather unconvinced that all of the dimensions we have here are important, but I didn't want to let preconceived assumptions about the importance of features cloud my judgment."
   ]
  },
  {
   "cell_type": "markdown",
   "id": "3edde315",
   "metadata": {
    "papermill": {
     "duration": 0.029595,
     "end_time": "2024-07-09T11:39:16.001638",
     "exception": false,
     "start_time": "2024-07-09T11:39:15.972043",
     "status": "completed"
    },
    "tags": []
   },
   "source": [
    "# **Processing the Test Dataset**\n",
    "\n",
    "Since we've done a lot of transformations to the train dataset, we'll need to similarly transform the test dataset to have the same format, since machine learning models expect any data they predict on to have the same format as the data they trained on."
   ]
  },
  {
   "cell_type": "code",
   "execution_count": 38,
   "id": "66487094",
   "metadata": {
    "execution": {
     "iopub.execute_input": "2024-07-09T11:39:16.063771Z",
     "iopub.status.busy": "2024-07-09T11:39:16.063372Z",
     "iopub.status.idle": "2024-07-09T11:39:16.229451Z",
     "shell.execute_reply": "2024-07-09T11:39:16.228060Z"
    },
    "papermill": {
     "duration": 0.200945,
     "end_time": "2024-07-09T11:39:16.232309",
     "exception": false,
     "start_time": "2024-07-09T11:39:16.031364",
     "status": "completed"
    },
    "tags": []
   },
   "outputs": [
    {
     "data": {
      "text/html": [
       "<div>\n",
       "<style scoped>\n",
       "    .dataframe tbody tr th:only-of-type {\n",
       "        vertical-align: middle;\n",
       "    }\n",
       "\n",
       "    .dataframe tbody tr th {\n",
       "        vertical-align: top;\n",
       "    }\n",
       "\n",
       "    .dataframe thead th {\n",
       "        text-align: right;\n",
       "    }\n",
       "</style>\n",
       "<table border=\"1\" class=\"dataframe\">\n",
       "  <thead>\n",
       "    <tr style=\"text-align: right;\">\n",
       "      <th></th>\n",
       "      <th>MSSubClass</th>\n",
       "      <th>LotArea</th>\n",
       "      <th>MSZoning_RH</th>\n",
       "      <th>Fireplaces</th>\n",
       "      <th>Heating_GasW</th>\n",
       "      <th>LotFrontage</th>\n",
       "      <th>KitchenQual</th>\n",
       "      <th>BsmtQual</th>\n",
       "      <th>Heating_Grav</th>\n",
       "      <th>TotRmsAbvGrd</th>\n",
       "      <th>...</th>\n",
       "      <th>OverallQual</th>\n",
       "      <th>HeatingQC</th>\n",
       "      <th>FireplaceQu</th>\n",
       "      <th>Heating_Wall</th>\n",
       "      <th>Heating_Floor</th>\n",
       "      <th>MSZoning_FV</th>\n",
       "      <th>ExterQual</th>\n",
       "      <th>MSZoning_RM</th>\n",
       "      <th>FullBath</th>\n",
       "      <th>YearBuilt</th>\n",
       "    </tr>\n",
       "  </thead>\n",
       "  <tbody>\n",
       "    <tr>\n",
       "      <th>0</th>\n",
       "      <td>20</td>\n",
       "      <td>11622</td>\n",
       "      <td>True</td>\n",
       "      <td>0</td>\n",
       "      <td>False</td>\n",
       "      <td>80.0</td>\n",
       "      <td>0.6</td>\n",
       "      <td>0.6</td>\n",
       "      <td>False</td>\n",
       "      <td>5</td>\n",
       "      <td>...</td>\n",
       "      <td>5</td>\n",
       "      <td>0.6</td>\n",
       "      <td>0.0</td>\n",
       "      <td>False</td>\n",
       "      <td>0</td>\n",
       "      <td>False</td>\n",
       "      <td>0.6</td>\n",
       "      <td>False</td>\n",
       "      <td>1</td>\n",
       "      <td>1961</td>\n",
       "    </tr>\n",
       "    <tr>\n",
       "      <th>1</th>\n",
       "      <td>20</td>\n",
       "      <td>14267</td>\n",
       "      <td>False</td>\n",
       "      <td>0</td>\n",
       "      <td>False</td>\n",
       "      <td>81.0</td>\n",
       "      <td>0.8</td>\n",
       "      <td>0.6</td>\n",
       "      <td>False</td>\n",
       "      <td>6</td>\n",
       "      <td>...</td>\n",
       "      <td>6</td>\n",
       "      <td>0.6</td>\n",
       "      <td>0.0</td>\n",
       "      <td>False</td>\n",
       "      <td>0</td>\n",
       "      <td>False</td>\n",
       "      <td>0.6</td>\n",
       "      <td>False</td>\n",
       "      <td>1</td>\n",
       "      <td>1958</td>\n",
       "    </tr>\n",
       "    <tr>\n",
       "      <th>2</th>\n",
       "      <td>60</td>\n",
       "      <td>13830</td>\n",
       "      <td>False</td>\n",
       "      <td>1</td>\n",
       "      <td>False</td>\n",
       "      <td>74.0</td>\n",
       "      <td>0.6</td>\n",
       "      <td>0.8</td>\n",
       "      <td>False</td>\n",
       "      <td>6</td>\n",
       "      <td>...</td>\n",
       "      <td>5</td>\n",
       "      <td>0.8</td>\n",
       "      <td>0.6</td>\n",
       "      <td>False</td>\n",
       "      <td>0</td>\n",
       "      <td>False</td>\n",
       "      <td>0.6</td>\n",
       "      <td>False</td>\n",
       "      <td>2</td>\n",
       "      <td>1997</td>\n",
       "    </tr>\n",
       "    <tr>\n",
       "      <th>3</th>\n",
       "      <td>60</td>\n",
       "      <td>9978</td>\n",
       "      <td>False</td>\n",
       "      <td>1</td>\n",
       "      <td>False</td>\n",
       "      <td>78.0</td>\n",
       "      <td>0.8</td>\n",
       "      <td>0.6</td>\n",
       "      <td>False</td>\n",
       "      <td>7</td>\n",
       "      <td>...</td>\n",
       "      <td>6</td>\n",
       "      <td>1.0</td>\n",
       "      <td>0.8</td>\n",
       "      <td>False</td>\n",
       "      <td>0</td>\n",
       "      <td>False</td>\n",
       "      <td>0.6</td>\n",
       "      <td>False</td>\n",
       "      <td>2</td>\n",
       "      <td>1998</td>\n",
       "    </tr>\n",
       "    <tr>\n",
       "      <th>4</th>\n",
       "      <td>120</td>\n",
       "      <td>5005</td>\n",
       "      <td>False</td>\n",
       "      <td>0</td>\n",
       "      <td>False</td>\n",
       "      <td>43.0</td>\n",
       "      <td>0.8</td>\n",
       "      <td>0.8</td>\n",
       "      <td>False</td>\n",
       "      <td>5</td>\n",
       "      <td>...</td>\n",
       "      <td>8</td>\n",
       "      <td>1.0</td>\n",
       "      <td>0.0</td>\n",
       "      <td>False</td>\n",
       "      <td>0</td>\n",
       "      <td>False</td>\n",
       "      <td>0.8</td>\n",
       "      <td>False</td>\n",
       "      <td>2</td>\n",
       "      <td>1992</td>\n",
       "    </tr>\n",
       "  </tbody>\n",
       "</table>\n",
       "<p>5 rows × 28 columns</p>\n",
       "</div>"
      ],
      "text/plain": [
       "   MSSubClass  LotArea  MSZoning_RH  Fireplaces  Heating_GasW  LotFrontage  \\\n",
       "0          20    11622         True           0         False         80.0   \n",
       "1          20    14267        False           0         False         81.0   \n",
       "2          60    13830        False           1         False         74.0   \n",
       "3          60     9978        False           1         False         78.0   \n",
       "4         120     5005        False           0         False         43.0   \n",
       "\n",
       "   KitchenQual  BsmtQual  Heating_Grav  TotRmsAbvGrd  ...  OverallQual  \\\n",
       "0          0.6       0.6         False             5  ...            5   \n",
       "1          0.8       0.6         False             6  ...            6   \n",
       "2          0.6       0.8         False             6  ...            5   \n",
       "3          0.8       0.6         False             7  ...            6   \n",
       "4          0.8       0.8         False             5  ...            8   \n",
       "\n",
       "   HeatingQC  FireplaceQu  Heating_Wall  Heating_Floor  MSZoning_FV  \\\n",
       "0        0.6          0.0         False              0        False   \n",
       "1        0.6          0.0         False              0        False   \n",
       "2        0.8          0.6         False              0        False   \n",
       "3        1.0          0.8         False              0        False   \n",
       "4        1.0          0.0         False              0        False   \n",
       "\n",
       "   ExterQual  MSZoning_RM  FullBath  YearBuilt  \n",
       "0        0.6        False         1       1961  \n",
       "1        0.6        False         1       1958  \n",
       "2        0.6        False         2       1997  \n",
       "3        0.6        False         2       1998  \n",
       "4        0.8        False         2       1992  \n",
       "\n",
       "[5 rows x 28 columns]"
      ]
     },
     "execution_count": 38,
     "metadata": {},
     "output_type": "execute_result"
    }
   ],
   "source": [
    "test_df = pd.read_csv(\"/kaggle/input/house-prices-advanced-regression-techniques/test.csv\")\n",
    "\n",
    "# One-hot encoding\n",
    "test_df, test_encoding_MSZoning = one_hot_encoding(test_df, \"MSZoning\")\n",
    "test_df, test_encoding_Heating = one_hot_encoding(test_df, \"Heating\")\n",
    "\n",
    "# Some of the one-hot encoding columns in train_df are missing from test_df. Let's do a check.\n",
    "missing_cols = (set(encoding_Heating) - set(test_encoding_Heating)).union(set(encoding_MSZoning) - set(test_encoding_MSZoning))\n",
    "test_df[list(missing_cols)] = 0\n",
    "\n",
    "# Setting NaN values\n",
    "test_df.loc[test_df[\"Electrical\"].isna(), \"Electrical\"] = \"SBrkr\"\n",
    "test_df.loc[test_df[\"BsmtExposure\"].isna(), \"BsmtExposure\"] = \"Av\"\n",
    "test_df.loc[test_df[\"FireplaceQu\"].isna(), \"FireplaceQu\"] = \"NoFireplace\"\n",
    "test_df.loc[test_df[\"PoolQC\"].isna(), \"PoolQC\"] = \"NoPool\"\n",
    "test_df.loc[test_df[\"Fence\"].isna(), \"Fence\"] = \"NoFence\"\n",
    "test_df.loc[test_df[\"Alley\"].isna(), \"Alley\"] = \"NoAlley\"\n",
    "test_df.loc[test_df[\"MiscFeature\"].isna(), \"MiscFeature\"] = \"NoMiscFeatures\"\n",
    "test_df.loc[test_df[\"MasVnrArea\"].isna(), \"MasVnrArea\"] = 0\n",
    "\n",
    "test_df.loc[(test_df[\"MasVnrArea\"] > 0) & (test_df[\"MasVnrType\"] == \"NoVnr\"), \"MasVnrType\"] = np.nan\n",
    "\n",
    "test_df.loc[(test_df[\"BsmtCond\"].isna()) & (test_df[\"BsmtQual\"].isna()) & (test_df[\"BsmtFinType1\"].isna()) & (test_df[\"BsmtFinType2\"].isna()) & (test_df[\"BsmtExposure\"].isna()), basement_cols] = \"NoBasement\"\n",
    "test_df.loc[(test_df[\"GarageCond\"].isna()) & (test_df[\"GarageQual\"].isna()) & (test_df[\"GarageType\"].isna()) & (test_df[\"GarageFinish\"].isna()), garage_cols] = \"NoGarage\"\n",
    "\n",
    "# Ordinal encoding\n",
    "test_df[[\"CentralAir\", \"PavedDrive\"]] = test_df[[\"CentralAir\", \"PavedDrive\"]].replace({\"Y\": 1, \"P\": 0.5, \"N\": 0}).astype(float)\n",
    "test_df[\"GarageFinish\"] = test_df[\"GarageFinish\"].replace({\"NoGarage\": 0, \"Unf\": 1/3, \"RFn\": 2/3, \"Fin\": 1}).astype(float)\n",
    "test_df[\"BsmtExposure\"] = test_df[\"BsmtExposure\"].replace({\"Gd\": 1, \"Av\": 3/4, \"Mn\": 1/2, \"No\": 1/4, \"NoBasement\": 0}).astype(float)\n",
    "test_df[\"BsmtFinType1\"] = test_df[\"BsmtFinType1\"].replace({\"GLQ\": 1, \"ALQ\": 5/6, \"BLQ\": 2/3, \"Rec\": 3/6, \"LwQ\": 2/6, \"Unf\": 1/6, \"NoBasement\": 0}).astype(float)\n",
    "\n",
    "encoding_cols = [\"KitchenQual\", \"BsmtQual\", \"BsmtCond\", \"FireplaceQu\", \"ExterCond\", \"ExterQual\", \"GarageQual\", \"PoolQC\", \"HeatingQC\"]\n",
    "test_df[encoding_cols] = test_df[encoding_cols].replace({\"NoBasement\": 0, \"NoFireplace\": 0, \"NoGarage\": 0, \"NoPool\": 0, \"PO\": 1/5, \"Po\": 1/5, \"Fa\": 2/5, \"TA\": 3/5, \"Gd\": 4/5, \"Ex\": 1}).astype(float)\n",
    "\n",
    "# K-fold encoding\n",
    "for col_name, encodings in k_fold_test_encodings.items():\n",
    "    test_df[col_name] = test_df[col_name].replace(encodings).astype(float)\n",
    "    test_df = test_df.rename(columns={col_name: f\"{col_name}_Encoded\"})\n",
    "\n",
    "test_df = test_df[train_df.drop(columns=[\"SalePrice\"]).columns]\n",
    "\n",
    "test_df.head()"
   ]
  },
  {
   "cell_type": "markdown",
   "id": "c1308894",
   "metadata": {
    "papermill": {
     "duration": 0.029305,
     "end_time": "2024-07-09T11:39:16.292131",
     "exception": false,
     "start_time": "2024-07-09T11:39:16.262826",
     "status": "completed"
    },
    "tags": []
   },
   "source": [
    "One thing I'd like to check is that everything in test_df is numerical as expected. If not, we may get an error if we run the test data through a model that's expecting only numerical inputs. Let's see which columns in test_df have the object dtype."
   ]
  },
  {
   "cell_type": "code",
   "execution_count": 39,
   "id": "487ef35b",
   "metadata": {
    "execution": {
     "iopub.execute_input": "2024-07-09T11:39:16.354490Z",
     "iopub.status.busy": "2024-07-09T11:39:16.354049Z",
     "iopub.status.idle": "2024-07-09T11:39:16.366432Z",
     "shell.execute_reply": "2024-07-09T11:39:16.365162Z"
    },
    "papermill": {
     "duration": 0.045931,
     "end_time": "2024-07-09T11:39:16.368796",
     "exception": false,
     "start_time": "2024-07-09T11:39:16.322865",
     "status": "completed"
    },
    "tags": []
   },
   "outputs": [
    {
     "data": {
      "text/html": [
       "<div>\n",
       "<style scoped>\n",
       "    .dataframe tbody tr th:only-of-type {\n",
       "        vertical-align: middle;\n",
       "    }\n",
       "\n",
       "    .dataframe tbody tr th {\n",
       "        vertical-align: top;\n",
       "    }\n",
       "\n",
       "    .dataframe thead th {\n",
       "        text-align: right;\n",
       "    }\n",
       "</style>\n",
       "<table border=\"1\" class=\"dataframe\">\n",
       "  <thead>\n",
       "    <tr style=\"text-align: right;\">\n",
       "      <th></th>\n",
       "      <th>Dtypes</th>\n",
       "    </tr>\n",
       "  </thead>\n",
       "  <tbody>\n",
       "  </tbody>\n",
       "</table>\n",
       "</div>"
      ],
      "text/plain": [
       "Empty DataFrame\n",
       "Columns: [Dtypes]\n",
       "Index: []"
      ]
     },
     "execution_count": 39,
     "metadata": {},
     "output_type": "execute_result"
    }
   ],
   "source": [
    "x = pd.DataFrame(test_df.dtypes).rename(columns={0: \"Dtypes\"})\n",
    "x[x[\"Dtypes\"] == \"object\"]"
   ]
  },
  {
   "cell_type": "markdown",
   "id": "80844b5b",
   "metadata": {
    "papermill": {
     "duration": 0.029229,
     "end_time": "2024-07-09T11:39:16.428212",
     "exception": false,
     "start_time": "2024-07-09T11:39:16.398983",
     "status": "completed"
    },
    "tags": []
   },
   "source": [
    "Okay, all good with datatypes! One thing I was worried about was if the test_df contains some Neighborhood values which weren't in the training set, in which case there would be no mapping for the new neighborhood. If your model requires numerical inputs and your test data has some columns which are originally categorical, you need to ensure all the columns and values can be converted to numerical as needed, and with K-fold target encoding, if we don't have an encoding for a certain categorical value, that can be a problem. It seems we're all good in this case, though.\n",
    "\n",
    "We still need to deal with NaNs in the test dataset. We'll need to carefully decide whether to fill with the mean, median or mode of the train dataset column. Note that we don't want to fill NaNs in the test dataset with data derived from the test dataset itself, because if we want to use the model in future on streaming data or on singular houses, we'll run into problems of not actually having anything to average/median/take the mode of.\n",
    "\n",
    "I'll be averaging float columns that must stay within a certain range (e.g. BsmtQual can only be between 0 and 1), since there aren't any strange outliers pulling the average in any direction. For things like YearBuilt, where outlier values from the 1800s can significantly skew the average, I'll use the median. If it's a column that can only be 0 or 1, I'll take the mode.\n",
    "\n",
    "Please note that the method below of filling in NaNs in the test data is very ugly. In a production setting, I'd hope that the data engineer (which may be me) would set up the data pipeline to handle NaNs automatically.\n",
    "\n",
    "In that case, it would also be worth looking at adding any new test entries to the existing list of all entries (i.e. train_df) if allowed, and recalculating the fill_df values from time to time including all the new data."
   ]
  },
  {
   "cell_type": "code",
   "execution_count": 40,
   "id": "7b3d3610",
   "metadata": {
    "execution": {
     "iopub.execute_input": "2024-07-09T11:39:16.489412Z",
     "iopub.status.busy": "2024-07-09T11:39:16.488988Z",
     "iopub.status.idle": "2024-07-09T11:39:16.497956Z",
     "shell.execute_reply": "2024-07-09T11:39:16.496503Z"
    },
    "papermill": {
     "duration": 0.042611,
     "end_time": "2024-07-09T11:39:16.500527",
     "exception": false,
     "start_time": "2024-07-09T11:39:16.457916",
     "status": "completed"
    },
    "tags": []
   },
   "outputs": [],
   "source": [
    "avg_cols = ['BsmtFinSF1', 'BsmtFinType1', 'BsmtQual',\n",
    " 'ExterQual',\n",
    " 'FireplaceQu',\n",
    " 'GarageFinish',\n",
    " 'HeatingQC',\n",
    " 'KitchenQual',\n",
    " 'Neighborhood_Encoded']\n",
    "\n",
    "median_cols = ['Fireplaces', 'FullBath', 'GarageYrBlt', 'LotArea', 'LotFrontage', 'OverallQual', 'TotRmsAbvGrd', 'YearBuilt', 'YearRemodAdd']\n",
    "\n",
    "mode_cols = ['Heating_Floor',\n",
    " 'Heating_GasA',\n",
    " 'Heating_GasW',\n",
    " 'Heating_Grav',\n",
    " 'Heating_OthW',\n",
    " 'Heating_Wall',\n",
    " 'MSSubClass',\n",
    " 'MSZoning_C (all)',\n",
    " 'MSZoning_FV',\n",
    " 'MSZoning_RH',\n",
    " 'MSZoning_RL',\n",
    " 'MSZoning_RM']\n",
    "\n",
    "# It looks like the feature utility metric and VIF give slightly different results each time, which is bothersome, to say the least.\n",
    "# So we keep the full list of possible columns and select the ones that actually exist this time around.\n",
    "\n",
    "avg_cols = [i for i in avg_cols if i in train_df.columns]\n",
    "median_cols = [i for i in median_cols if i in train_df.columns]\n",
    "mode_cols = [i for i in mode_cols if i in train_df.columns]"
   ]
  },
  {
   "cell_type": "code",
   "execution_count": 41,
   "id": "7f962ec0",
   "metadata": {
    "execution": {
     "iopub.execute_input": "2024-07-09T11:39:16.563778Z",
     "iopub.status.busy": "2024-07-09T11:39:16.563358Z",
     "iopub.status.idle": "2024-07-09T11:39:16.584636Z",
     "shell.execute_reply": "2024-07-09T11:39:16.583458Z"
    },
    "papermill": {
     "duration": 0.055968,
     "end_time": "2024-07-09T11:39:16.587444",
     "exception": false,
     "start_time": "2024-07-09T11:39:16.531476",
     "status": "completed"
    },
    "tags": []
   },
   "outputs": [],
   "source": [
    "fill_df = pd.Series(index=avg_cols + median_cols + mode_cols)\n",
    "\n",
    "fill_df[avg_cols] = train_df[avg_cols].mean()\n",
    "fill_df[median_cols] = train_df[median_cols].median()\n",
    "fill_df[mode_cols] = train_df[mode_cols].mode().iloc[0]"
   ]
  },
  {
   "cell_type": "code",
   "execution_count": 42,
   "id": "1640dcfe",
   "metadata": {
    "execution": {
     "iopub.execute_input": "2024-07-09T11:39:16.652325Z",
     "iopub.status.busy": "2024-07-09T11:39:16.651166Z",
     "iopub.status.idle": "2024-07-09T11:39:16.664583Z",
     "shell.execute_reply": "2024-07-09T11:39:16.663480Z"
    },
    "papermill": {
     "duration": 0.049811,
     "end_time": "2024-07-09T11:39:16.667315",
     "exception": false,
     "start_time": "2024-07-09T11:39:16.617504",
     "status": "completed"
    },
    "tags": []
   },
   "outputs": [],
   "source": [
    "test_df = test_df.fillna(fill_df)"
   ]
  },
  {
   "cell_type": "markdown",
   "id": "bee26fa2",
   "metadata": {
    "papermill": {
     "duration": 0.029482,
     "end_time": "2024-07-09T11:39:16.726562",
     "exception": false,
     "start_time": "2024-07-09T11:39:16.697080",
     "status": "completed"
    },
    "tags": []
   },
   "source": [
    "# **Choosing a Model**\n",
    "\n",
    "Now that data cleaning is done, we can move on to everyone's favorite part, choosing a model! There are a lot of models we could use for predicting house prices. [This paper](https://www.tandfonline.com/doi/full/10.1080/09599916.2022.2070525) mentions a lot of possible models that have shown promising results, including random forests, gradient boosted trees, neural networks, genetic algorithms, support vector machines, and fuzzy logic.\n",
    "\n",
    "All machine learning, no matter which method you choose, relies on learning through the **minimization of a loss function** during training. For regression problems (which predicting housing prices is an example of), using the squared error (i.e. the square of the residual between the expected and true label value) is a common choice. \n",
    "\n",
    "We then use **back-propagation** to determine the gradient of the error. If you remember your multivariable calculus classes, you'll remember that the negative gradient tells us the direction of the steepest descent. If we visualize the error space as an N-dimensional function, where N is the number of parameters that can be tuned during training (e.g. weights and biases in a neural network), we want to find a nice valley in the error space that minimizes the error function, so we want to go in the direction of steepest descent.\n",
    "\n",
    "So by calculating the gradient based on the current parameter values, we can move in the direction of steepest descent and land somewhere else with different parameter values, and through this process, the parameters will get tuned until hopefully we're in a deep valley in the error function.\n",
    "\n",
    "## Choosing and Validating a Model\n",
    "\n",
    "I'm going to make the rather arbitrary choice to use gradient-boosted trees. I don't have much of a reason for this besides that gradient-boosted trees are generally considered to work better than random trees based on the papers I've looked at, and they're fairly simple to implement in Python and don't require as much computational power to train as e.g. deep-learning neural networks, which would probably be overkill for a dataset with <1500 rows and not that many features.\n",
    "\n",
    "If this weren't a Kaggle notebook, I would try a few different model types. What I will be doing here is implementing **K-fold cross validation** to assess the model results. This uses a similar concept to K-fold target encoding of creating folds in the data. Say we have 3 folds. We'd then go through as follows:\n",
    "\n",
    "- Model 1: Uses folds 1 and 2 to train, uses fold 3 to test\n",
    "- Model 2: Uses folds 1 and 3 to train, uses fold 2 to test\n",
    "- Model 3: Uses folds 2 and 3 to train, uses fold 1 to test\n",
    "\n",
    "Generally, you'd use more folds than this. 5 seems to be a popular number and a reasonable minimum number of folds, since the 80-20 split is a rather popular one for train vs test data. The models should all have the same **hyperparameters** (i.e. parameters which you set yourself, like learning rate or choosing the error function - these are not the parameters tuned by the model). The point of the folds is that we get an error rate that is independent of exactly which data is being used for testing, since you eventually end up testing on all the data.\n",
    "\n",
    "You can then do this validation for every model you're testing or all the hyperparameter combinations you're trying for each model type. There's certainly a lot of patience involved, which is why tools like [Azure's Automated Machine Learning](https://learn.microsoft.com/en-us/azure/machine-learning/concept-automated-ml?view=azureml-api-2) are popular. This tool automatically creates pipelines to try different models and hyperparameters for you, which takes out a lot of the tedium of manually changing and testing different hyperparameters.\n",
    "\n",
    "## An Aside on Types of Machine Learning\n",
    "\n",
    "There are 3 basic categories of machine learning:\n",
    "\n",
    "- Supervised learning. This involves anything where we're trying to predict something that's already known, such as classifying whether a photo shows a cat or dog, or predicting some known numerical output like the price of a house.\n",
    "    - Numerical predictions like the amount of rain we expect to see in a year in inches are linear regression problems.\n",
    "    - Logistic regression involves predicting the probability of a binary outcome (e.g. whether someone will develop diabetes).\n",
    "- Unsupervised. This would be something like k-means clustering, where we try to form categories of similar data points like when building customer profiles, but there's not necessarily a right answer besides whatever gives clusters with low intra-cluster distance and high distance between clusters. The training data doesn't include what the output should be.\n",
    "- Reinforcement learning. This is where a machine learning algorithm has its behavior reinforced with rewards, or penalized with punishments. This is generally used for algorithms that learn to play video games.\n",
    "\n",
    "Note that language models (looking at you, ChatGPT) come under their own special category called self-supervised learning, and are outside the scope of this notebook.\n",
    "\n",
    "The loss function used will depend on what category of machine learning you're using.\n",
    "\n",
    "# **Choosing Which Gradient Boosted Trees Library to Use**\n",
    "\n",
    "There are several possible libraries we can use for our gradient-boosted trees, including:\n",
    "\n",
    "- XGBoost\n",
    "- LightGBM\n",
    "- Catboost\n",
    "\n",
    "Since we went through all the trouble of turning the categorical columns numerical, we may as well use XGboost for our gradient boosted trees.\n",
    "\n",
    "NOTE: It looks like XGboost is actually capable of handling numerical columns now, unlike in the past, so we didn't actually need to do all that conversion from categorical to numerical. In general, the ability to handle categorical columns is one of the reasons why decision tree-based methods are very popular, as many of the other methods out there (namely neural networks) simply don't handle non-numerical data and needs them to be encoded to numbers beforehand.\n",
    "\n",
    "## An Aside on Encoding\n",
    "\n",
    "While encoding the categorical data to numbers was rather straightforward here, encoding gets quite interesting when we get into **transformers**, where we're often encoding words into numbers (note that transformers are the basis of big-name LLMs like Bard and ChatGPT). You have to have **positional encoding** to keep the order of the words, **word embeddings** to essentially create a vector space mapping the meanings of words (words with similar meanings will be close together in vector space), as well as **self-attention** to encode the relations between words in a sentence (e.g. whether \"it\" refers to the subject \"food\" or object \"kitchen\" of the sentence in \"The food came out of the kitchen and it was good\"). That's well outside the scope of this notebook, though. Maybe for a different competition."
   ]
  },
  {
   "cell_type": "code",
   "execution_count": 43,
   "id": "05eae713",
   "metadata": {
    "execution": {
     "iopub.execute_input": "2024-07-09T11:39:16.788376Z",
     "iopub.status.busy": "2024-07-09T11:39:16.787949Z",
     "iopub.status.idle": "2024-07-09T11:39:17.049387Z",
     "shell.execute_reply": "2024-07-09T11:39:17.048078Z"
    },
    "papermill": {
     "duration": 0.295751,
     "end_time": "2024-07-09T11:39:17.052424",
     "exception": false,
     "start_time": "2024-07-09T11:39:16.756673",
     "status": "completed"
    },
    "tags": []
   },
   "outputs": [],
   "source": [
    "from sklearn.metrics import mean_squared_error\n",
    "import xgboost as xgb\n",
    "import logging\n",
    "logger = logging.getLogger(__name__)\n",
    "\n",
    "# Let's scramble the rows first, just in case they're ordered.\n",
    "# We want our data to be as random in order as possible.\n",
    "\n",
    "train_df = train_df.sample(frac=1, random_state=1045).reset_index(drop=True)\n",
    "\n",
    "# X is the true training data (label column removed) and Y is the column we're predicting.\n",
    "\n",
    "X = train_df.drop(columns=[\"SalePrice\"])\n",
    "y = train_df[[\"SalePrice\"]]\n",
    "\n",
    "# We're going to just take from the training data, 10% as validation (note that 1/num_splits = fraction for validation)\n",
    "# If I had more data, I'd use 20%, but we're already pretty short on data.\n",
    "\n",
    "num_splits = 10\n",
    "\n",
    "# Honestly, these two hyperparameters are rather arbitrary and would probably be decided through trial and error.\n",
    "\n",
    "num_boost_round = 400\n",
    "max_depth = 8\n",
    "\n",
    "# I am setting the random state seed to my latest Scrabble score because there is no reason not to.\n",
    "# In all seriousness, the whole point of the random_state is that it's random, and ideally, your model\n",
    "# shouldn't be affected by what the value is, although there are certainly cases where it does affect the outcome anyway.\n",
    "\n",
    "params =   {\n",
    "    'objective': \"reg:squarederror\",\n",
    "    'tree_method':'hist',\n",
    "    'learning_rate': 0.02,\n",
    "    'max_depth': max_depth,\n",
    "    'seed': 102, \n",
    "    'eval_metric': \"rmse\",\n",
    "    'early_stopping_rounds': None,\n",
    "}\n",
    "\n",
    "# XGB has its own function for K-fold cross-validation called cv, which would be helpful if it actually ran properly on Kaggle.\n",
    "# Oh well. Let's do this the long way.\n",
    "\n",
    "train_results = pd.DataFrame(0.0, index=range(num_boost_round), columns=range(num_splits))\n",
    "validation_results = pd.DataFrame(0.0, index=range(num_boost_round), columns=range(num_splits))\n",
    "train_results.columns.names = [\"Fold\"]\n",
    "validation_results.columns.names = [\"Fold\"]\n",
    "train_results.index.names = [\"Iteration\"]\n",
    "validation_results.index.names = [\"Iteration\"]\n",
    "\n",
    "skf = StratifiedKFold(n_splits=num_splits)"
   ]
  },
  {
   "cell_type": "code",
   "execution_count": 44,
   "id": "f5da2f4c",
   "metadata": {
    "execution": {
     "iopub.execute_input": "2024-07-09T11:39:17.114448Z",
     "iopub.status.busy": "2024-07-09T11:39:17.114033Z",
     "iopub.status.idle": "2024-07-09T11:39:28.992524Z",
     "shell.execute_reply": "2024-07-09T11:39:28.991564Z"
    },
    "papermill": {
     "duration": 11.912841,
     "end_time": "2024-07-09T11:39:28.995298",
     "exception": false,
     "start_time": "2024-07-09T11:39:17.082457",
     "status": "completed"
    },
    "tags": []
   },
   "outputs": [
    {
     "name": "stderr",
     "output_type": "stream",
     "text": [
      "/opt/conda/lib/python3.10/site-packages/sklearn/model_selection/_split.py:700: UserWarning: The least populated class in y has only 1 members, which is less than n_splits=10.\n",
      "  warnings.warn(\n"
     ]
    }
   ],
   "source": [
    "for fold_num, (train_index, val_index) in enumerate(skf.split(X, y)):\n",
    "    \n",
    "    X_train = X.loc[train_index]\n",
    "    y_train = y.loc[train_index]\n",
    "    \n",
    "    # After each iteration of training, the model will predict on the validation set to see what the error rate is.\n",
    "\n",
    "    X_val = X.loc[val_index]\n",
    "    y_val = y.loc[val_index]\n",
    "    \n",
    "    # Create regression matrices\n",
    "    dtrain_reg = xgb.DMatrix(X_train, y_train, enable_categorical=False)\n",
    "    dtest_reg = xgb.DMatrix(X_val, y_val, enable_categorical=False)\n",
    "    \n",
    "    evals = [(dtrain_reg, \"train\"), (dtest_reg, \"validation\")]\n",
    "    results = dict()\n",
    "    \n",
    "    clf = xgb.train(params = params,\n",
    "                    dtrain=dtrain_reg,\n",
    "                    num_boost_round = num_boost_round,\n",
    "                    evals=evals,\n",
    "                    evals_result=results,\n",
    "                    verbose_eval=0)\n",
    "    \n",
    "    validation_results[fold_num] = results[\"validation\"][\"rmse\"]\n",
    "    train_results[fold_num] = results[\"train\"][\"rmse\"]"
   ]
  },
  {
   "cell_type": "markdown",
   "id": "99c7c98c",
   "metadata": {
    "papermill": {
     "duration": 0.031411,
     "end_time": "2024-07-09T11:39:29.058814",
     "exception": false,
     "start_time": "2024-07-09T11:39:29.027403",
     "status": "completed"
    },
    "tags": []
   },
   "source": [
    "Let's go through the above code quickly.\n",
    "\n",
    "## Num_boost_round and max_depth\n",
    "\n",
    "Num_boost_round is just the number of iterations, which, as we've established, is also the number of gradient boosting trees to have in sequence. Max_depth is how many levels each tree can have, and helps prevent overfitting. Other possible parameters to avoid overfitting include:\n",
    "\n",
    "- min_child_weight: How many samples are accounted for by a given node\n",
    "- gamma: Minimum loss reduction required to split a node further\n",
    "- max_leaves: Pretty self-explanatory\n",
    "\n",
    "## Validation Data and Early Stopping\n",
    "\n",
    "What's the early_stopping_rounds argument? When turned on, it's used to help avoid overfitting. For people unfamiliar, **underfitting** is when our model doesn't accurately predict anything - it hasn't been trained enough and so all the parameters are still too close to their initial random values. Basically, the model hasn't learned the trends of the data well enough yet and it's like there's still an element of random guessing to the predictions.\n",
    "\n",
    "**Overfitting** is when we've learned the training data too well to the point where we can't generalize to anything else. The model has assigned too much meaning to very small variations in the data rather than looking at overall trends. The model will perform extremely well when trying to predict the training data, but will struggle to predict well on novel data it hasn't seen before. This is what I mean by assigning too much value to small variations:\n",
    "\n",
    "<img src=\"https://imgur.com/7TWNfFZ.png\" height=\"400px\">\n",
    "\n",
    "Overfitting is dangerous because it can be hard to catch. It's a big part of why machine learning always has the mantra that you CANNOT taint your testing data with your training data and vice versa. If your training and testing data get muddled together (e.g. if you used both training and testing data to K-fold encode), the model may perform much better on the testing data than if the testing data were completely novel, because the testing data isn't actually novel anymore, and that means you may think your model is doing great on novel data when actually it wouldn't and the model's already overfitted.\n",
    "\n",
    "Training to the point of overfitting is also just a waste of time, because the optimal point of training is before you've reached that point, so it's good if you can stop before you get to that point. We can very roughly consider the errors in predictions to look something like this, based on iterations of training:\n",
    "\n",
    "<img src=\"https://i.imgur.com/2xpG7Ia.png\" width=\"400px\" height=\"400px\">\n",
    "\n",
    "At the end of each iteration, the model predicts on the validation data just to see how it's doing. Once we're at the point where the error rate when predicting on the validation data is starting to just get worse, we can safely stop the training instead of going all the way to whatever our predetermined max number of iterations is. This is called **early stopping**.\n",
    "\n",
    "You may be wondering at this point why we're setting early_stopping_rounds to None, which is equivalent to not activating it at all. The reason is because we're doing K-fold cross-validation and want the same number of iterations between different models for a fair comparison. In gradient boosted trees, each iteration adds 1 tree, so the model architecture changes depending on the number of iterations. In order to have a fair comparison of each fold, we want to have the same number of trees, and so are not enabling early stopping.\n",
    "\n",
    "What I'd do if going through the full process of deciding hyperparameters and whatnot is to not turn on early stopping for any of my initial hyperparameter tests. Each set of hyperparameters would be tested through K-fold cross-validation like above, and then at the end, I'd see which set of hyperparameters gave the best results. I'd then retrain the model using that set of hyperparameters and turning on early stopping.\n",
    "\n",
    "If I were implementing something like a neural network where the architecture (for neural networks, this would be the number of layers and the number of neurons per layer, as well as which type of layer each layer is) stays constant no matter the number of iterations, I'd turn on early stopping even in the K-fold cross-validation step of testing different hyperparameters.\n",
    "\n",
    "In this case, even though we're not using the validation data to enable early stopping, we do still want to predict on validation data to get a better idea of if our number of iterations is set too high and to be able to combine the prediction metrics for each K-fold to get the overall model prediction accuracy and other metrics.\n",
    "\n",
    "Let's plot the root mean squared error across iterations for the training and validation data for each K-fold and see what it looks like."
   ]
  },
  {
   "cell_type": "code",
   "execution_count": 45,
   "id": "035daae6",
   "metadata": {
    "execution": {
     "iopub.execute_input": "2024-07-09T11:39:29.123450Z",
     "iopub.status.busy": "2024-07-09T11:39:29.122642Z",
     "iopub.status.idle": "2024-07-09T11:39:33.332163Z",
     "shell.execute_reply": "2024-07-09T11:39:33.330843Z"
    },
    "papermill": {
     "duration": 4.246502,
     "end_time": "2024-07-09T11:39:33.335238",
     "exception": false,
     "start_time": "2024-07-09T11:39:29.088736",
     "status": "completed"
    },
    "tags": []
   },
   "outputs": [
    {
     "data": {
      "image/png": "[encoded data removed]",
      "text/plain": [
       "<Figure size 750x350 with 1 Axes>"
      ]
     },
     "metadata": {},
     "output_type": "display_data"
    },
    {
     "data": {
      "image/png": "[encoded data removed]",
      "text/plain": [
       "<Figure size 750x350 with 1 Axes>"
      ]
     },
     "metadata": {},
     "output_type": "display_data"
    },
    {
     "data": {
      "image/png": "[encoded data removed]",
      "text/plain": [
       "<Figure size 750x350 with 1 Axes>"
      ]
     },
     "metadata": {},
     "output_type": "display_data"
    },
    {
     "data": {
      "image/png": "[encoded data removed]",
      "text/plain": [
       "<Figure size 750x350 with 1 Axes>"
      ]
     },
     "metadata": {},
     "output_type": "display_data"
    },
    {
     "data": {
      "image/png": "[encoded data removed]",
      "text/plain": [
       "<Figure size 750x350 with 1 Axes>"
      ]
     },
     "metadata": {},
     "output_type": "display_data"
    },
    {
     "data": {
      "image/png": "[encoded data removed]",
      "text/plain": [
       "<Figure size 750x350 with 1 Axes>"
      ]
     },
     "metadata": {},
     "output_type": "display_data"
    },
    {
     "data": {
      "image/png": "[encoded data removed]",
      "text/plain": [
       "<Figure size 750x350 with 1 Axes>"
      ]
     },
     "metadata": {},
     "output_type": "display_data"
    },
    {
     "data": {
      "image/png": "[encoded data removed]",
      "text/plain": [
       "<Figure size 750x350 with 1 Axes>"
      ]
     },
     "metadata": {},
     "output_type": "display_data"
    },
    {
     "data": {
      "image/png": "[encoded data removed]",
      "text/plain": [
       "<Figure size 750x350 with 1 Axes>"
      ]
     },
     "metadata": {},
     "output_type": "display_data"
    },
    {
     "data": {
      "image/png": "[encoded data removed]",
      "text/plain": [
       "<Figure size 750x350 with 1 Axes>"
      ]
     },
     "metadata": {},
     "output_type": "display_data"
    }
   ],
   "source": [
    "for fold in range(num_splits):\n",
    "    plt.plot(train_results.index, train_results[fold], label=\"train\")\n",
    "    plt.plot(validation_results.index, validation_results[fold], label=\"validation\")\n",
    "    plt.legend()\n",
    "    \n",
    "    plt.title(f\"Fold {fold} RMSE by Iteration\")\n",
    "    plt.ylabel(\"RMSE\")\n",
    "    plt.xlabel(\"Iteration\")\n",
    "    \n",
    "    plt.show()\n",
    "    plt.close()"
   ]
  },
  {
   "cell_type": "markdown",
   "id": "37ddf452",
   "metadata": {
    "papermill": {
     "duration": 0.038264,
     "end_time": "2024-07-09T11:39:33.410718",
     "exception": false,
     "start_time": "2024-07-09T11:39:33.372454",
     "status": "completed"
    },
    "tags": []
   },
   "source": [
    "We can see that the training errors start at around the same mark each time (\\\\$80,000) and while training error goes to nearly 0, validation error caps out at around \\\\$40,000 each time. Interestingly, we don't see validation error start increasing again, which would indicate overtraining. Instead, we just don't improve past a certain point, meaning our hyperparameters aren't very good. Mind that \\\\$40k is a significant fraction of usual housing prices (the median SalePrice in the training data is \\\\$163k), so we're doing quite badly.\n",
    "\n",
    "The lack of obvious overfitting is likely due to us setting the max_depth of the trees; if we allowed the trees to keep splitting into more and more layers, we could easily end up with one leaf for every single piece of training data, would would absolutely be overfitting.\n",
    "\n",
    "Normally, I wouldn't actually plot each K-fold individually - I'd average over each iteration and just plot the average validation and training errors as below, and then have these plots for each set of hyperparameters I'm testing."
   ]
  },
  {
   "cell_type": "code",
   "execution_count": 46,
   "id": "7c4af111",
   "metadata": {
    "execution": {
     "iopub.execute_input": "2024-07-09T11:39:33.486834Z",
     "iopub.status.busy": "2024-07-09T11:39:33.486437Z",
     "iopub.status.idle": "2024-07-09T11:39:33.861724Z",
     "shell.execute_reply": "2024-07-09T11:39:33.860303Z"
    },
    "papermill": {
     "duration": 0.416027,
     "end_time": "2024-07-09T11:39:33.864233",
     "exception": false,
     "start_time": "2024-07-09T11:39:33.448206",
     "status": "completed"
    },
    "tags": []
   },
   "outputs": [
    {
     "data": {
      "image/png": "[encoded data removed]",
      "text/plain": [
       "<Figure size 750x350 with 1 Axes>"
      ]
     },
     "metadata": {},
     "output_type": "display_data"
    }
   ],
   "source": [
    "plt.plot(train_results.index, train_results.mean(axis=1), label=\"train\")\n",
    "plt.plot(validation_results.index, validation_results.mean(axis=1), label=\"validation\")\n",
    "plt.legend()\n",
    "\n",
    "plt.title(f\"Mean RMSE by Iteration\")\n",
    "plt.ylabel(\"RMSE\")\n",
    "plt.xlabel(\"Iteration\")\n",
    "\n",
    "plt.show()\n",
    "plt.close()"
   ]
  },
  {
   "cell_type": "markdown",
   "id": "a5c2476c",
   "metadata": {
    "papermill": {
     "duration": 0.038183,
     "end_time": "2024-07-09T11:39:33.939834",
     "exception": false,
     "start_time": "2024-07-09T11:39:33.901651",
     "status": "completed"
    },
    "tags": []
   },
   "source": [
    "We can see from the above that we really don't need as many iterations as we currently have. Even half the number of iterations would be fine.\n",
    "\n",
    "I haven't really talked about my choice of error metric, which is root mean squared error. This is a fairly common one for linear regression problems. For classification, it's useful to make an **ROC curve** of the true positive rate vs. the false positive rate, and take the area under that curve (the **AUC**). The greater the area, the better. If you have more than 2 categories, you can make ROC curves and take the AUC for each category you're predicting for.\n",
    "\n",
    "# **Final Thoughts**\n",
    "\n",
    "Okay, so our model doesn't do that great, but we're not always going to get it right the first time. Hopefully, you still found this notebook interesting and helpful! While it's not very suitable for total beginners with no machine learning knowledge whatsoever, I've designed it to be understandable for people with very basic knowledge of machine learning. This notebook is meant to mostly be an assay on data cleaning and exploration, rather than focused on designing and testing the model itself.\n",
    "\n",
    "I remember when starting out with machine learning, I found the data cleaning process to be tedious and boring and tried to skip it as much as possible. However, it's important to start with the fundamentals, but since a lot of people seem to assume knowledge of the fundamentals as a foregone conclusion, it can be hard to know what you don't know and to find a resource that takes you through the process step-by-step.\n",
    "\n",
    "Have a great day!"
   ]
  }
 ],
 "metadata": {
  "kaggle": {
   "accelerator": "none",
   "dataSources": [
    {
     "databundleVersionId": 868283,
     "sourceId": 5407,
     "sourceType": "competition"
    }
   ],
   "dockerImageVersionId": 30732,
   "isGpuEnabled": false,
   "isInternetEnabled": false,
   "language": "python",
   "sourceType": "notebook"
  },
  "kernelspec": {
   "display_name": "Python 3",
   "language": "python",
   "name": "python3"
  },
  "language_info": {
   "codemirror_mode": {
    "name": "ipython",
    "version": 3
   },
   "file_extension": ".py",
   "mimetype": "text/x-python",
   "name": "python",
   "nbconvert_exporter": "python",
   "pygments_lexer": "ipython3",
   "version": "3.10.13"
  },
  "papermill": {
   "default_parameters": {},
   "duration": 33.02119,
   "end_time": "2024-07-09T11:39:34.700532",
   "environment_variables": {},
   "exception": null,
   "input_path": "__notebook__.ipynb",
   "output_path": "__notebook__.ipynb",
   "parameters": {},
   "start_time": "2024-07-09T11:39:01.679342",
   "version": "2.5.0"
  }
 },
 "nbformat": 4,
 "nbformat_minor": 5
}
